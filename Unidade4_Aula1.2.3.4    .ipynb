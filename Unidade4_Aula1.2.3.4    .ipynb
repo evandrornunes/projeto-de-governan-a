{
  "nbformat": 4,
  "nbformat_minor": 0,
  "metadata": {
    "colab": {
      "provenance": [],
      "authorship_tag": "ABX9TyP29yeG8XqJ0uXVvqxzod2F",
      "include_colab_link": true
    },
    "kernelspec": {
      "name": "python3",
      "display_name": "Python 3"
    },
    "language_info": {
      "name": "python"
    }
  },
  "cells": [
    {
      "cell_type": "markdown",
      "metadata": {
        "id": "view-in-github",
        "colab_type": "text"
      },
      "source": [
        "<a href=\"https://colab.research.google.com/github/evandrornunes/projeto-de-governan-a/blob/main/Unidade4_Aula1.2.3.4%20%20%20%20.ipynb\" target=\"_parent\"><img src=\"https://colab.research.google.com/assets/colab-badge.svg\" alt=\"Open In Colab\"/></a>"
      ]
    },
    {
      "cell_type": "code",
      "execution_count": null,
      "metadata": {
        "id": "Y3au1wZnuxH2"
      },
      "outputs": [],
      "source": [
        "# Criando uma página HTML usando Python\n",
        "\n",
        "html_code = \"\"\"\n",
        "<!DOCTYPE html>\n",
        "<html>\n",
        "<head>\n",
        "  <title>Exemplo de Front-end com Python</title>\n",
        "</head>\n",
        "<body>\n",
        "  <h1>Olá, mundo!</h1>\n",
        "  <p>Esta é uma página web criada usando Python no Google Colab.</p>\n",
        "</body>\n",
        "</html>\n",
        "\"\"\""
      ]
    },
    {
      "cell_type": "code",
      "source": [
        "# Modulo para chamar o HTML\n",
        "from IPython.display import HTML\n",
        "HTML(html_code)"
      ],
      "metadata": {
        "colab": {
          "base_uri": "https://localhost:8080/",
          "height": 100
        },
        "id": "-IhqKEJGxSGV",
        "outputId": "9af29757-a85a-49ad-8502-6a1316ed1c65"
      },
      "execution_count": null,
      "outputs": [
        {
          "output_type": "execute_result",
          "data": {
            "text/plain": [
              "<IPython.core.display.HTML object>"
            ],
            "text/html": [
              "\n",
              "<!DOCTYPE html>\n",
              "<html>\n",
              "<head>\n",
              "  <title>Exemplo de Front-end com Python</title>\n",
              "</head>\n",
              "<body>\n",
              "  <h1>Olá, mundo!</h1>\n",
              "  <p>Esta é uma página web criada usando Python no Google Colab.</p>\n",
              "</body>\n",
              "</html>\n"
            ]
          },
          "metadata": {},
          "execution_count": 4
        }
      ]
    },
    {
      "cell_type": "code",
      "source": [
        "from IPython.display import HTML\n",
        "html_code = \"\"\"\n",
        "<!DOCTYPE html>\n",
        "<html lang=\"en\">\n",
        "<head>\n",
        "<!-- Definindo a comunicação e a viewport para dispositivos móveis -->\n",
        "    <meta charset=\"UTF-8\">\n",
        "    <meta name=\"viewport\" content=\"width=device-width, initial-scale=1.0\">\n",
        "      <title>Meu Perfil</title>\n",
        "</head>\n",
        "<body style=\"font-family: 'Papyrus', sans-serif; background-color: #FF0000; margin: 0; padding: 0;\">\n",
        "\n",
        "<!-- Cabeçalho da Página -->\n",
        "    <header style=\"text-align: center; background-color: #008000; color: #FF0000; padding: 20px;\">\n",
        "\n",
        "    <!-- Titulo principal -->\n",
        "        <h1 style=\"margin: 0;\">Evandro Ronaldo Nunes</h1>\n",
        "\n",
        "        <!-- Descrição -->\n",
        "        <p style=\"margin: 5px 0;\">Técnico em eletrônica e Desenvolvedor Web</p>\n",
        "    </header>\n",
        "\n",
        "    <!-- Seção de Informações Pessoais -->\n",
        "    <section style=\"margin: 20px; text-align: center;\">\n",
        "\n",
        "\n",
        "\n",
        "\n",
        "    <!-- Imagem com estilo -->\n",
        "       <img src=\"C:\\Downloads\\20210713_074907.jpg\" alt=\"Vandão\" style=\"border-radius: 50%; margin-bottom: 20px;\">\n",
        "\n",
        "\n",
        "\n",
        "\n",
        "\n",
        "        <! -- Informções Pessoais -->\n",
        "        <div id=\"informacoes-pessoais\" style=\"max-width: 400px; margin: 0 auto;\">\n",
        "            <p>Cidade: Campinas - SP </p>\n",
        "            <p>País: Brasil</p>\n",
        "            <p>Interesses: Ánalise de circuitos eletrônico, Programação, etc.</p>\n",
        "        </div>\n",
        "    </section>\n",
        "\n",
        "   <!-- Seção de Habilidades -->\n",
        "    <section style=\"margin: 20px; text-align: center;\">\n",
        "\n",
        "<! -- Titulo da seção -->\n",
        "        <h2>Habilidades</h2>\n",
        "\n",
        "<! -- Lista de Habilidades -->\n",
        "        <ul style=\"list-style: none; padding: 0;\">\n",
        "            <li>Análise de circuitos eletrônico</li>\n",
        "            <li>Redes de computador</li>\n",
        "        </ul>\n",
        "    </section>\n",
        "\n",
        "<!-- Seção de Projetos Recentes -->\n",
        "    <section style=\"margin: 20px; text-align: center;\">\n",
        "\n",
        "<! -- Titulo do projeto recente -->\n",
        "        <h2>Projetos de estudo</h2>\n",
        "\n",
        "        <! -- Descrição do projeto -->\n",
        "        <p>Cursando Tecnologia da informaçao, foco em adquirir conhecimento no campo de eletrônica.</p>\n",
        "    </section>\n",
        "\n",
        "<!-- Rodapé da Página -->\n",
        "    <footer style=\"text-align: center; margin-top: 20px;\">\n",
        "\n",
        "<!-- Links para redes sociais -->\n",
        "        <a href=\"https://www.linkedin.com/feed/\" target=\"_blank\" style=\"margin: 0 10px; color: #0000FF; text-decoration: none;\">LinkedIn</a>\n",
        "    </footer>\n",
        "</body>\n",
        "</html>\n",
        "\"\"\""
      ],
      "metadata": {
        "colab": {
          "base_uri": "https://localhost:8080/"
        },
        "id": "uVFFpR87yNvz",
        "outputId": "0a9e01cd-6bfa-41da-db51-8d8d5d81d4e9"
      },
      "execution_count": 46,
      "outputs": [
        {
          "output_type": "stream",
          "name": "stderr",
          "text": [
            "<>:30: SyntaxWarning: invalid escape sequence '\\D'\n",
            "<>:30: SyntaxWarning: invalid escape sequence '\\D'\n",
            "/tmp/ipython-input-1510286459.py:30: SyntaxWarning: invalid escape sequence '\\D'\n",
            "  <img src=\"C:\\Downloads\\20210713_074907.jpg\" alt=\"Vandão\" style=\"border-radius: 50%; margin-bottom: 20px;\">\n"
          ]
        }
      ]
    },
    {
      "cell_type": "code",
      "source": [
        "# Exibindo a página HTML\n",
        "\n",
        "HTML(html_code)"
      ],
      "metadata": {
        "colab": {
          "base_uri": "https://localhost:8080/",
          "height": 440
        },
        "id": "TNOWZQk33-C_",
        "outputId": "d6df5c89-2350-4e40-a343-6f850ac64216"
      },
      "execution_count": 47,
      "outputs": [
        {
          "output_type": "execute_result",
          "data": {
            "text/plain": [
              "<IPython.core.display.HTML object>"
            ],
            "text/html": [
              "\n",
              "<!DOCTYPE html>\n",
              "<html lang=\"en\">\n",
              "<head>\n",
              "<!-- Definindo a comunicação e a viewport para dispositivos móveis -->\n",
              "    <meta charset=\"UTF-8\">\n",
              "    <meta name=\"viewport\" content=\"width=device-width, initial-scale=1.0\">\n",
              "      <title>Meu Perfil</title>\n",
              "</head>\n",
              "<body style=\"font-family: 'Papyrus', sans-serif; background-color: #FF0000; margin: 0; padding: 0;\">\n",
              "\n",
              "<!-- Cabeçalho da Página -->\n",
              "    <header style=\"text-align: center; background-color: #008000; color: #FF0000; padding: 20px;\">\n",
              "\n",
              "    <!-- Titulo principal -->\n",
              "        <h1 style=\"margin: 0;\">Evandro Ronaldo Nunes</h1>\n",
              "\n",
              "        <!-- Descrição -->\n",
              "        <p style=\"margin: 5px 0;\">Técnico em eletrônica e Desenvolvedor Web</p>\n",
              "    </header>\n",
              "\n",
              "    <!-- Seção de Informações Pessoais -->\n",
              "    <section style=\"margin: 20px; text-align: center;\">\n",
              "\n",
              "\n",
              "\n",
              "\n",
              "    <!-- Imagem com estilo -->\n",
              "       <img src=\"C:\\Downloads10713_074907.jpg\" alt=\"Vandão\" style=\"border-radius: 50%; margin-bottom: 20px;\">\n",
              "\n",
              "\n",
              "\n",
              "\n",
              "\n",
              "        <! -- Informções Pessoais -->\n",
              "        <div id=\"informacoes-pessoais\" style=\"max-width: 400px; margin: 0 auto;\">\n",
              "            <p>Cidade: Campinas - SP </p>\n",
              "            <p>País: Brasil</p>\n",
              "            <p>Interesses: Ánalise de circuitos eletrônico, Programação, etc.</p>\n",
              "        </div>\n",
              "    </section>\n",
              "\n",
              "   <!-- Seção de Habilidades -->\n",
              "    <section style=\"margin: 20px; text-align: center;\">\n",
              "\n",
              "<! -- Titulo da seção -->\n",
              "        <h2>Habilidades</h2>\n",
              "\n",
              "<! -- Lista de Habilidades -->\n",
              "        <ul style=\"list-style: none; padding: 0;\">\n",
              "            <li>Análise de circuitos eletrônico</li>\n",
              "            <li>Redes de computador</li>\n",
              "        </ul>\n",
              "    </section>\n",
              "\n",
              "<!-- Seção de Projetos Recentes -->\n",
              "    <section style=\"margin: 20px; text-align: center;\">\n",
              "\n",
              "<! -- Titulo do projeto recente -->\n",
              "        <h2>Projetos de estudo</h2>\n",
              "\n",
              "        <! -- Descrição do projeto -->\n",
              "        <p>Cursando Tecnologia da informaçao, foco em adquirir conhecimento no campo de eletrônica.</p>\n",
              "    </section>\n",
              "\n",
              "<!-- Rodapé da Página -->\n",
              "    <footer style=\"text-align: center; margin-top: 20px;\">\n",
              "\n",
              "<!-- Links para redes sociais -->\n",
              "        <a href=\"https://www.linkedin.com/feed/\" target=\"_blank\" style=\"margin: 0 10px; color: #0000FF; text-decoration: none;\">LinkedIn</a>\n",
              "    </footer>\n",
              "</body>\n",
              "</html>\n"
            ]
          },
          "metadata": {},
          "execution_count": 47
        }
      ]
    }
  ]
}