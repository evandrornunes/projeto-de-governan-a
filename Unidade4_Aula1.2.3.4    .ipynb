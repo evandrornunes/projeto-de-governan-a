{
  "nbformat": 4,
  "nbformat_minor": 0,
  "metadata": {
    "colab": {
      "provenance": [],
      "authorship_tag": "ABX9TyMzZb6WUkuEj42SIFf30MJn",
      "include_colab_link": true
    },
    "kernelspec": {
      "name": "python3",
      "display_name": "Python 3"
    },
    "language_info": {
      "name": "python"
    }
  },
  "cells": [
    {
      "cell_type": "markdown",
      "metadata": {
        "id": "view-in-github",
        "colab_type": "text"
      },
      "source": [
        "<a href=\"https://colab.research.google.com/github/evandrornunes/projeto-de-governan-a/blob/main/Unidade4_Aula1.2.3.4%20%20%20%20.ipynb\" target=\"_parent\"><img src=\"https://colab.research.google.com/assets/colab-badge.svg\" alt=\"Open In Colab\"/></a>"
      ]
    },
    {
      "cell_type": "code",
      "execution_count": 2,
      "metadata": {
        "id": "Y3au1wZnuxH2"
      },
      "outputs": [],
      "source": [
        "# Criando uma página HTML usando Python\n",
        "\n",
        "html_code = \"\"\"\n",
        "<!DOCTYPE html>\n",
        "<html>\n",
        "<head>\n",
        "  <title>Exemplo de Front-end com Python</title>\n",
        "</head>\n",
        "<body>\n",
        "  <h1>Olá, mundo!</h1>\n",
        "  <p>Esta é uma página web criada usando Python no Google Colab.</p>\n",
        "</body>\n",
        "</html>\n",
        "\"\"\""
      ]
    },
    {
      "cell_type": "code",
      "source": [
        "# Modulo para chamar o HTML\n",
        "from IPython.display import HTML\n",
        "HTML(html_code)"
      ],
      "metadata": {
        "id": "-IhqKEJGxSGV",
        "outputId": "9af29757-a85a-49ad-8502-6a1316ed1c65",
        "colab": {
          "base_uri": "https://localhost:8080/",
          "height": 100
        }
      },
      "execution_count": 4,
      "outputs": [
        {
          "output_type": "execute_result",
          "data": {
            "text/plain": [
              "<IPython.core.display.HTML object>"
            ],
            "text/html": [
              "\n",
              "<!DOCTYPE html>\n",
              "<html>\n",
              "<head>\n",
              "  <title>Exemplo de Front-end com Python</title>\n",
              "</head>\n",
              "<body>\n",
              "  <h1>Olá, mundo!</h1>\n",
              "  <p>Esta é uma página web criada usando Python no Google Colab.</p>\n",
              "</body>\n",
              "</html>\n"
            ]
          },
          "metadata": {},
          "execution_count": 4
        }
      ]
    },
    {
      "cell_type": "code",
      "source": [
        "from IPython.display import HTML\n",
        "html_code = \"\"\"\n",
        "<!DOCTYPE html>\n",
        "<html lang=\"en\">\n",
        "<head>\n",
        "<!-- Definindo a comunicação e a viewport para dispositivos móveis -->\n",
        "    <meta charset=\"UTF-8\">\n",
        "    <meta name=\"viewport\" content=\"width=device-width, initial-scale=1.0\">\n",
        "    <title>Meu Perfil</title>\n",
        "</head>\n",
        "<body style=\"font-family: 'Arial', sans-serif; background-color: #f8f8f8; margin: 0; padding: 0;\">\n",
        "\n",
        "<!-- Cabeçalho da Página -->\n",
        "    <header style=\"text-align: center; background-color: #3498db; color: #fff; padding: 20px;\">\n",
        "\n",
        "    <!-- Titulo principal -->\n",
        "        <h1 style=\"margin: 0;\">Evandro Ronaldo Nunes</h1>\n",
        "\n",
        "        <!-- Descrição -->\n",
        "        <p style=\"margin: 5px 0;\">Técnico em eletrônica e Desenvolvedor Web</p>\n",
        "    </header>\n",
        "\n",
        "    <!-- Seção de Informações Pessoais -->\n",
        "    <section style=\"margin: 20px; text-align: center;\">\n",
        "\n",
        "    <!-- Imagem com estilo -->\n",
        "        <img src=\"content/sua_foto.jpg\" alt=\"Sua Foto\" style=\"border-radius: 50%; margin-bottom: 20px;\">\n",
        "\n",
        "        <! -- Informções Pessoais -->\n",
        "        <div id=\"informacoes-pessoais\" style=\"max-width: 400px; margin: 0 auto;\">\n",
        "            <p>Cidade: Campinas </p>\n",
        "            <p>País: Brasil</p>\n",
        "            <p>Interesses: Ánalise de circuitos eletrônico, Programação, etc.</p>\n",
        "        </div>\n",
        "    </section>\n",
        "\n",
        "   <!-- Seção de Habilidades -->\n",
        "    <section style=\"margin: 20px; text-align: center;\">\n",
        "\n",
        "<! -- Titulo da seção -->\n",
        "        <h2>Habilidades</h2>\n",
        "\n",
        "<! -- Lista de Habilidades -->\n",
        "        <ul style=\"list-style: none; padding: 0;\">\n",
        "            <li>Linguagens: Python, HTML, CSS, JavaScript</li>\n",
        "            <li>Ferramentas: Git, VS Code</li>\n",
        "        </ul>\n",
        "    </section>\n",
        "\n",
        "<!-- Seção de Projetos Recentes -->\n",
        "    <section style=\"margin: 20px; text-align: center;\">\n",
        "\n",
        "<! -- Titulo do projeto recente -->\n",
        "        <h2>Projeto Recente</h2>\n",
        "\n",
        "        <! -- Descrição do projeto -->\n",
        "        <p>Trabalhando em um site pessoal para mostrar meu portfólio.</p>\n",
        "    </section>\n",
        "\n",
        "<!-- Rodapé da Página -->\n",
        "    <footer style=\"text-align: center; margin-top: 20px;\">\n",
        "\n",
        "<!-- Links para redes sociais -->\n",
        "        <a href=\"https://www.linkedin.com/feed/\" target=\"_blank\" style=\"margin: 0 10px; color: #3498db; text-decoration: none;\">LinkedIn</a>\n",
        "    </footer>\n",
        "</body>\n",
        "</html>\n",
        "\"\"\""
      ],
      "metadata": {
        "id": "uVFFpR87yNvz"
      },
      "execution_count": 7,
      "outputs": []
    },
    {
      "cell_type": "code",
      "source": [
        "# Exibindo a página HTML\n",
        "\n",
        "HTML(html_code)"
      ],
      "metadata": {
        "id": "TNOWZQk33-C_",
        "outputId": "0bb9133c-d580-4dba-aff6-6d4b98deb475",
        "colab": {
          "resources": {
            "http://localhost:8080/content/sua_foto.jpg": {
              "data": "",
              "ok": false,
              "headers": [
                [
                  "content-length",
                  "0"
                ]
              ],
              "status": 404,
              "status_text": ""
            }
          },
          "base_uri": "https://localhost:8080/",
          "height": 440
        }
      },
      "execution_count": 8,
      "outputs": [
        {
          "output_type": "execute_result",
          "data": {
            "text/plain": [
              "<IPython.core.display.HTML object>"
            ],
            "text/html": [
              "\n",
              "<!DOCTYPE html>\n",
              "<html lang=\"en\">\n",
              "<head>\n",
              "<!-- Definindo a comunicação e a viewport para dispositivos móveis -->\n",
              "    <meta charset=\"UTF-8\">\n",
              "    <meta name=\"viewport\" content=\"width=device-width, initial-scale=1.0\">\n",
              "    <title>Meu Perfil</title>\n",
              "</head>\n",
              "<body style=\"font-family: 'Arial', sans-serif; background-color: #f8f8f8; margin: 0; padding: 0;\">\n",
              " \n",
              "<!-- Cabeçalho da Página -->\n",
              "    <header style=\"text-align: center; background-color: #3498db; color: #fff; padding: 20px;\">\n",
              "    \n",
              "    <!-- Titulo principal -->\n",
              "        <h1 style=\"margin: 0;\">Anderson Inácio Salata de Abreu</h1>\n",
              "\n",
              "        <!-- Descrição -->\n",
              "        <p style=\"margin: 5px 0;\">Desenvolvedor Web</p>\n",
              "    </header>\n",
              "\n",
              "    <!-- Seção de Informações Pessoais -->\n",
              "    <section style=\"margin: 20px; text-align: center;\">\n",
              "\n",
              "    <!-- Imagem com estilo -->\n",
              "        <img src=\"content/sua_foto.jpg\" alt=\"Sua Foto\" style=\"border-radius: 50%; margin-bottom: 20px;\">\n",
              "\n",
              "        <! -- Informções Pessoais -->\n",
              "        <div id=\"informacoes-pessoais\" style=\"max-width: 400px; margin: 0 auto;\">\n",
              "            <p>Cidade: Sorocaba </p>\n",
              "            <p>País: Brasil</p>\n",
              "            <p>Interesses: Web Development, Programação, etc.</p>\n",
              "        </div>\n",
              "    </section>\n",
              "\n",
              "   <!-- Seção de Habilidades -->\n",
              "    <section style=\"margin: 20px; text-align: center;\">\n",
              "\n",
              "<! -- Titulo da seção -->\n",
              "        <h2>Habilidades</h2>\n",
              "\n",
              "<! -- Lista de Habilidades -->\n",
              "        <ul style=\"list-style: none; padding: 0;\">\n",
              "            <li>Linguagens: Python, HTML, CSS, JavaScript</li>\n",
              "            <li>Ferramentas: Git, VS Code</li>\n",
              "        </ul>\n",
              "    </section>\n",
              "\n",
              "<!-- Seção de Projetos Recentes -->\n",
              "    <section style=\"margin: 20px; text-align: center;\">\n",
              "\n",
              "<! -- Titulo do projeto recente -->\n",
              "        <h2>Projeto Recente</h2>\n",
              "\n",
              "        <! -- Descrição do projeto -->\n",
              "        <p>Trabalhando em um site pessoal para mostrar meu portfólio.</p>\n",
              "    </section>\n",
              "\n",
              "<!-- Rodapé da Página -->\n",
              "    <footer style=\"text-align: center; margin-top: 20px;\">\n",
              "\n",
              "<!-- Links para redes sociais -->\n",
              "        <a href=\"https://www.linkedin.com/feed/\" target=\"_blank\" style=\"margin: 0 10px; color: #3498db; text-decoration: none;\">LinkedIn</a>\n",
              "    </footer>\n",
              "</body>\n",
              "</html>\n"
            ]
          },
          "metadata": {},
          "execution_count": 8
        }
      ]
    }
  ]
}