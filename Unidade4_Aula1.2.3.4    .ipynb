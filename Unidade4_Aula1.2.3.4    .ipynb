{
  "nbformat": 4,
  "nbformat_minor": 0,
  "metadata": {
    "colab": {
      "provenance": [],
      "authorship_tag": "ABX9TyOCsgIqu6e5u3m11spb7lUR",
      "include_colab_link": true
    },
    "kernelspec": {
      "name": "python3",
      "display_name": "Python 3"
    },
    "language_info": {
      "name": "python"
    }
  },
  "cells": [
    {
      "cell_type": "markdown",
      "metadata": {
        "id": "view-in-github",
        "colab_type": "text"
      },
      "source": [
        "<a href=\"https://colab.research.google.com/github/evandrornunes/projeto-de-governan-a/blob/main/Unidade4_Aula1.2.3.4%20%20%20%20.ipynb\" target=\"_parent\"><img src=\"https://colab.research.google.com/assets/colab-badge.svg\" alt=\"Open In Colab\"/></a>"
      ]
    },
    {
      "cell_type": "code",
      "execution_count": 2,
      "metadata": {
        "id": "Y3au1wZnuxH2"
      },
      "outputs": [],
      "source": [
        "# Criando uma página HTML usando Python\n",
        "\n",
        "html_code = \"\"\"\n",
        "<!DOCTYPE html>\n",
        "<html>\n",
        "<head>\n",
        "  <title>Exemplo de Front-end com Python</title>\n",
        "</head>\n",
        "<body>\n",
        "  <h1>Olá, mundo!</h1>\n",
        "  <p>Esta é uma página web criada usando Python no Google Colab.</p>\n",
        "</body>\n",
        "</html>\n",
        "\"\"\""
      ]
    },
    {
      "cell_type": "code",
      "source": [
        "# Modulo para chamar o HTML\n",
        "from IPython.display import HTML\n",
        "HTML(html_code)"
      ],
      "metadata": {
        "colab": {
          "base_uri": "https://localhost:8080/",
          "height": 100
        },
        "id": "-IhqKEJGxSGV",
        "outputId": "9af29757-a85a-49ad-8502-6a1316ed1c65"
      },
      "execution_count": 4,
      "outputs": [
        {
          "output_type": "execute_result",
          "data": {
            "text/plain": [
              "<IPython.core.display.HTML object>"
            ],
            "text/html": [
              "\n",
              "<!DOCTYPE html>\n",
              "<html>\n",
              "<head>\n",
              "  <title>Exemplo de Front-end com Python</title>\n",
              "</head>\n",
              "<body>\n",
              "  <h1>Olá, mundo!</h1>\n",
              "  <p>Esta é uma página web criada usando Python no Google Colab.</p>\n",
              "</body>\n",
              "</html>\n"
            ]
          },
          "metadata": {},
          "execution_count": 4
        }
      ]
    },
    {
      "cell_type": "code",
      "source": [
        "from IPython.display import HTML\n",
        "html_code = \"\"\"\n",
        "<!DOCTYPE html>\n",
        "<html lang=\"en\">\n",
        "<head>\n",
        "<!-- Definindo a comunicação e a viewport para dispositivos móveis -->\n",
        "    <meta charset=\"UTF-8\">\n",
        "    <meta name=\"viewport\" content=\"width=device-width, initial-scale=1.0\">\n",
        "      <title>Meu Perfil</title>\n",
        "</head>\n",
        "<body style=\"font-family: 'Arial', sans-serif; background-color: #f8f8f8; margin: 0; padding: 0;\">\n",
        "\n",
        "<!-- Cabeçalho da Página -->\n",
        "    <header style=\"text-align: center; background-color: #90EE90; color: #fff; padding: 20px;\">\n",
        "\n",
        "    <!-- Titulo principal -->\n",
        "        <h1 style=\"margin: 0;\">Evandro Ronaldo Nunes</h1>\n",
        "\n",
        "        <!-- Descrição -->\n",
        "        <p style=\"margin: 5px 0;\">Técnico em eletrônica e Desenvolvedor Web</p>\n",
        "    </header>\n",
        "\n",
        "    <!-- Seção de Informações Pessoais -->\n",
        "    <section style=\"margin: 20px; text-align: center;\">\n",
        "\n",
        "\n",
        "\n",
        "\n",
        "    <!-- Imagem com estilo -->\n",
        "       <img src=\"content/C:\\Users\\evand\\Downloads\\20210713_074907.jpg\" alt=\"Sua Foto\" style=\"border-radius: 50%; margin-bottom: 20px;\">\n",
        "\n",
        "\n",
        "\n",
        "\n",
        "\n",
        "        <! -- Informções Pessoais -->\n",
        "        <div id=\"informacoes-pessoais\" style=\"max-width: 400px; margin: 0 auto;\">\n",
        "            <p>Cidade: Campinas - SP </p>\n",
        "            <p>País: Brasil</p>\n",
        "            <p>Interesses: Ánalise de circuitos eletrônico, Programação, etc.</p>\n",
        "        </div>\n",
        "    </section>\n",
        "\n",
        "   <!-- Seção de Habilidades -->\n",
        "    <section style=\"margin: 20px; text-align: center;\">\n",
        "\n",
        "<! -- Titulo da seção -->\n",
        "        <h2>Habilidades</h2>\n",
        "\n",
        "<! -- Lista de Habilidades -->\n",
        "        <ul style=\"list-style: none; padding: 0;\">\n",
        "            <li>Linguagens: Python, HTML, CSS, JavaScript</li>\n",
        "            <li>Ferramentas: Git, VS Code</li>\n",
        "        </ul>\n",
        "    </section>\n",
        "\n",
        "<!-- Seção de Projetos Recentes -->\n",
        "    <section style=\"margin: 20px; text-align: center;\">\n",
        "\n",
        "<! -- Titulo do projeto recente -->\n",
        "        <h2>Projeto Recente</h2>\n",
        "\n",
        "        <! -- Descrição do projeto -->\n",
        "        <p>Trabalhando em um site pessoal para mostrar meu portfólio.</p>\n",
        "    </section>\n",
        "\n",
        "<!-- Rodapé da Página -->\n",
        "    <footer style=\"text-align: center; margin-top: 20px;\">\n",
        "\n",
        "<!-- Links para redes sociais -->\n",
        "        <a href=\"https://www.linkedin.com/feed/\" target=\"_blank\" style=\"margin: 0 10px; color: #3498db; text-decoration: none;\">LinkedIn</a>\n",
        "    </footer>\n",
        "</body>\n",
        "</html>\n",
        "\"\"\""
      ],
      "metadata": {
        "colab": {
          "base_uri": "https://localhost:8080/",
          "height": 106
        },
        "id": "uVFFpR87yNvz",
        "outputId": "cad9c518-c69c-475d-cd25-0113b6ef5277"
      },
      "execution_count": 32,
      "outputs": [
        {
          "output_type": "error",
          "ename": "SyntaxError",
          "evalue": "(unicode error) 'unicodeescape' codec can't decode bytes in position 974-975: truncated \\UXXXXXXXX escape (ipython-input-487252380.py, line 2)",
          "traceback": [
            "\u001b[0;36m  File \u001b[0;32m\"/tmp/ipython-input-487252380.py\"\u001b[0;36m, line \u001b[0;32m2\u001b[0m\n\u001b[0;31m    html_code = \"\"\"\u001b[0m\n\u001b[0m                ^\u001b[0m\n\u001b[0;31mSyntaxError\u001b[0m\u001b[0;31m:\u001b[0m (unicode error) 'unicodeescape' codec can't decode bytes in position 974-975: truncated \\UXXXXXXXX escape\n"
          ]
        }
      ]
    },
    {
      "cell_type": "code",
      "source": [
        "# Exibindo a página HTML\n",
        "\n",
        "HTML(html_code)"
      ],
      "metadata": {
        "colab": {
          "resources": {
            "http://localhost:8080/content/20210713_074907.jpg": {
              "data": "",
              "ok": false,
              "headers": [
                [
                  "content-length",
                  "0"
                ]
              ],
              "status": 404,
              "status_text": ""
            }
          },
          "base_uri": "https://localhost:8080/",
          "height": 440
        },
        "id": "TNOWZQk33-C_",
        "outputId": "7c0180af-6d10-42fd-d670-5dd913b746af"
      },
      "execution_count": 27,
      "outputs": [
        {
          "output_type": "execute_result",
          "data": {
            "text/plain": [
              "<IPython.core.display.HTML object>"
            ],
            "text/html": [
              "\n",
              "<!DOCTYPE html>\n",
              "<html lang=\"en\">\n",
              "<head>\n",
              "<!-- Definindo a comunicação e a viewport para dispositivos móveis -->\n",
              "    <meta charset=\"UTF-8\">\n",
              "    <meta name=\"viewport\" content=\"width=device-width, initial-scale=1.0\">\n",
              "      <title>Meu Perfil</title>\n",
              "</head>\n",
              "<body style=\"font-family: 'Arial', sans-serif; background-color: #f8f8f8; margin: 0; padding: 0;\">\n",
              " \n",
              "<!-- Cabeçalho da Página -->\n",
              "    <header style=\"text-align: center; background-color: #90EE90; color: #fff; padding: 20px;\">\n",
              "    \n",
              "    <!-- Titulo principal -->\n",
              "        <h1 style=\"margin: 0;\">Evandro Ronaldo Nunes</h1>\n",
              "\n",
              "        <!-- Descrição -->\n",
              "        <p style=\"margin: 5px 0;\">Técnico em eletrônica e Desenvolvedor Web</p>\n",
              "    </header>\n",
              "\n",
              "    <!-- Seção de Informações Pessoais -->\n",
              "    <section style=\"margin: 20px; text-align: center;\">\n",
              "\n",
              "\n",
              "\n",
              "\n",
              "    <!-- Imagem com estilo -->\n",
              "       <img src=\"content/20210713_074907.jpg\" alt=\"Sua Foto\" style=\"border-radius: 50%; margin-bottom: 20px;\">\n",
              "\n",
              "\n",
              "\n",
              "\n",
              "\n",
              "        <! -- Informções Pessoais -->\n",
              "        <div id=\"informacoes-pessoais\" style=\"max-width: 400px; margin: 0 auto;\">\n",
              "            <p>Cidade: Campinas - SP </p>\n",
              "            <p>País: Brasil</p>\n",
              "            <p>Interesses: Ánalise de circuitos eletrônico, Programação, etc.</p>\n",
              "        </div>\n",
              "    </section>\n",
              "\n",
              "   <!-- Seção de Habilidades -->\n",
              "    <section style=\"margin: 20px; text-align: center;\">\n",
              "\n",
              "<! -- Titulo da seção -->\n",
              "        <h2>Habilidades</h2>\n",
              "\n",
              "<! -- Lista de Habilidades -->\n",
              "        <ul style=\"list-style: none; padding: 0;\">\n",
              "            <li>Linguagens: Python, HTML, CSS, JavaScript</li>\n",
              "            <li>Ferramentas: Git, VS Code</li>\n",
              "        </ul>\n",
              "    </section>\n",
              "\n",
              "<!-- Seção de Projetos Recentes -->\n",
              "    <section style=\"margin: 20px; text-align: center;\">\n",
              "\n",
              "<! -- Titulo do projeto recente -->\n",
              "        <h2>Projeto Recente</h2>\n",
              "\n",
              "        <! -- Descrição do projeto -->\n",
              "        <p>Trabalhando em um site pessoal para mostrar meu portfólio.</p>\n",
              "    </section>\n",
              "\n",
              "<!-- Rodapé da Página -->\n",
              "    <footer style=\"text-align: center; margin-top: 20px;\">\n",
              "\n",
              "<!-- Links para redes sociais -->\n",
              "        <a href=\"https://www.linkedin.com/feed/\" target=\"_blank\" style=\"margin: 0 10px; color: #3498db; text-decoration: none;\">LinkedIn</a>\n",
              "    </footer>\n",
              "</body>\n",
              "</html>\n"
            ]
          },
          "metadata": {},
          "execution_count": 27
        }
      ]
    },
    {
      "cell_type": "code",
      "source": [
        "<img src=\"content/sua_foto.jpg\" alt=\"Sua Foto\" style=\"border-radius: 50%; margin-bottom: 20px;\">"
      ],
      "metadata": {
        "id": "WXhQI9FK9KrY"
      },
      "execution_count": null,
      "outputs": []
    }
  ]
}