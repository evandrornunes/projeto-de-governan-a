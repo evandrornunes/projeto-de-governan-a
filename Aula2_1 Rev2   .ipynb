{
  "nbformat": 4,
  "nbformat_minor": 0,
  "metadata": {
    "colab": {
      "provenance": [],
      "authorship_tag": "ABX9TyPKhYhk2yhodgd8ohrmDTm7",
      "include_colab_link": true
    },
    "kernelspec": {
      "name": "python3",
      "display_name": "Python 3"
    },
    "language_info": {
      "name": "python"
    }
  },
  "cells": [
    {
      "cell_type": "markdown",
      "metadata": {
        "id": "view-in-github",
        "colab_type": "text"
      },
      "source": [
        "<a href=\"https://colab.research.google.com/github/evandrornunes/projeto-de-governan-a/blob/main/Aula2_1%20Rev2%20%20%20.ipynb\" target=\"_parent\"><img src=\"https://colab.research.google.com/assets/colab-badge.svg\" alt=\"Open In Colab\"/></a>"
      ]
    },
    {
      "cell_type": "markdown",
      "source": [
        "✅ Objetos do tipo sequência\n",
        "\n",
        "Sequências são estruturas de dados que nos permitem armazenar coleções\n",
        "ordenadas de informações\n"
      ],
      "metadata": {
        "id": "DgVLe3TWwSpv"
      }
    },
    {
      "cell_type": "code",
      "execution_count": 14,
      "metadata": {
        "colab": {
          "base_uri": "https://localhost:8080/"
        },
        "id": "iIbD9GIcpS_L",
        "outputId": "b4822fcf-3809-4456-db9f-c3f5753c7e40"
      },
      "outputs": [
        {
          "output_type": "stream",
          "name": "stdout",
          "text": [
            "Tamanho do texto = 104\n",
            "Existe a palavra python no texto ? ( True or False ) = True\n",
            "Quantas vezes aparece a letra (o) no texto ? = 13\n",
            "Quais são as 7 primeira letras do texto ? = Ola meu nome é Evandro\n"
          ]
        }
      ],
      "source": [
        "texto = \"Ola meu nome é Evandro, estou aorendendo tecnologia da informação, enfim iniciamos programação em python\"\n",
        "\n",
        "print(f\"Tamanho do texto = {len(texto)}\")\n",
        "print(f\"Existe a palavra python no texto ? ( True or False ) = {'python' in texto}\")\n",
        "print(f\"Quantas vezes aparece a letra (o) no texto ? = {texto.count('o')}\")\n",
        "print(f\"Quais são as 7 primeira letras do texto ? = {texto[:22]}\")"
      ]
    },
    {
      "cell_type": "markdown",
      "source": [
        "✅ Listas\n",
        "\n",
        "São uma forma fundamental de objetos do tipo sequência, são mutáveis, o que\n",
        "significa que podemos adicionar, remover e alterar elementos"
      ],
      "metadata": {
        "id": "ZbbLnlVGwEcU"
      }
    },
    {
      "cell_type": "code",
      "source": [
        "cores = [ 'verde', 'amarelo', 'azul', 'branco', 'preto']\n",
        "for tabela in cores:\n",
        "  print(f'Sequencia das cores = {cores.index(tabela)}, tabela = {tabela}')\n"
      ],
      "metadata": {
        "colab": {
          "base_uri": "https://localhost:8080/"
        },
        "id": "9g4KOtTywLB9",
        "outputId": "70c5428c-7e85-4cd3-8b26-f5b1e4051865"
      },
      "execution_count": 24,
      "outputs": [
        {
          "output_type": "stream",
          "name": "stdout",
          "text": [
            "Sequencia das cores = 0, tabela = verde\n",
            "Sequencia das cores = 1, tabela = amarelo\n",
            "Sequencia das cores = 2, tabela = azul\n",
            "Sequencia das cores = 3, tabela = branco\n",
            "Sequencia das cores = 4, tabela = preto\n"
          ]
        }
      ]
    },
    {
      "cell_type": "markdown",
      "source": [
        "✅ Listcomp\n",
        "\n",
        "As list comprehensions, ou listcomps, são uma abordagem pythônica para\n",
        "criar listas com base em objetos iteráveis;"
      ],
      "metadata": {
        "id": "h7rcBky450m6"
      }
    },
    {
      "cell_type": "code",
      "source": [
        "linguagens = [\"Python\", \"Java\", \"JavaScript\", \"C\", \"C#\", \"C++\", \"Swift\", \"Go\", \"Kotlin\"]  # sem usar liscomp iniciais das palavras com letra MAIUSCULA\n",
        "print( \"Antes de aplicar listcomp = \" , linguagens)\n",
        "linguagens = [item.lower() for item in linguagens]    # Depois de usar LISTCOMP iniciais das palavras se transformaram em letras minusculas\n",
        "print( \"Depois de aplicar listcomp = \", linguagens)"
      ],
      "metadata": {
        "colab": {
          "base_uri": "https://localhost:8080/"
        },
        "id": "2yrEWs5D4Y-X",
        "outputId": "ba00d66a-2912-45e0-cdf6-5f85b2b227cd"
      },
      "execution_count": 1,
      "outputs": [
        {
          "output_type": "stream",
          "name": "stdout",
          "text": [
            "Antes de aplicar listcomp =  ['Python', 'Java', 'JavaScript', 'C', 'C#', 'C++', 'Swift', 'Go', 'Kotlin']\n",
            "Depois de aplicar listcomp =  ['python', 'java', 'javascript', 'c', 'c#', 'c++', 'swift', 'go', 'kotlin']\n"
          ]
        }
      ]
    },
    {
      "cell_type": "markdown",
      "source": [
        "✅ Map"
      ],
      "metadata": {
        "id": "VrG43Fm68MS0"
      }
    },
    {
      "cell_type": "code",
      "source": [
        "preço_em_dolar = [100, 50, 75, 120]\n",
        "taxa_de_cambio = 6.25\n",
        "preço_em_real = list(map(lambda valor: valor * taxa_de_cambio, preço_em_dolar))\n",
        "print(preço_em_real)"
      ],
      "metadata": {
        "colab": {
          "base_uri": "https://localhost:8080/"
        },
        "id": "XAAoTJOn7Csi",
        "outputId": "648265cc-a420-4fc3-e10b-44be29f6b8ed"
      },
      "execution_count": 3,
      "outputs": [
        {
          "output_type": "stream",
          "name": "stdout",
          "text": [
            "[625.0, 312.5, 468.75, 750.0]\n"
          ]
        }
      ]
    },
    {
      "cell_type": "code",
      "source": [
        "print(taxa_de_cambio)"
      ],
      "metadata": {
        "colab": {
          "base_uri": "https://localhost:8080/"
        },
        "id": "IE6crQow4lA9",
        "outputId": "d79891f1-e6b3-47ee-a986-1d7eb55aacea"
      },
      "execution_count": 6,
      "outputs": [
        {
          "output_type": "stream",
          "name": "stdout",
          "text": [
            "6.25\n"
          ]
        }
      ]
    },
    {
      "cell_type": "markdown",
      "source": [],
      "metadata": {
        "id": "M29xj2-z5HHV"
      }
    },
    {
      "cell_type": "markdown",
      "source": [
        "✅ Filter\n",
        "\n",
        "Especialmente útil quando você deseja transformar ou filtrar as informações\n",
        "de uma sequência existente para criar uma nova sequência com as\n",
        "informações desejadas"
      ],
      "metadata": {
        "id": "DhTaEO6k4YE5"
      }
    },
    {
      "cell_type": "code",
      "source": [
        "numeros = [1, 2, 3, 4, 5, 6, 7, 8, 9, 10, 11, 12, 13, 14, 15, 16]\n",
        "numeros_pares = list(filter(lambda nunes: nunes % 2 == 0, numeros))\n",
        "print(numeros_pares)"
      ],
      "metadata": {
        "colab": {
          "base_uri": "https://localhost:8080/"
        },
        "id": "_mkHA5xU52Jb",
        "outputId": "66d87eec-f452-41f4-d5bd-ac47bbc3d2d5"
      },
      "execution_count": 11,
      "outputs": [
        {
          "output_type": "stream",
          "name": "stdout",
          "text": [
            "[2, 4, 6, 8, 10, 12, 14, 16]\n"
          ]
        }
      ]
    },
    {
      "cell_type": "markdown",
      "source": [
        "✅ Tuplas\n",
        "\n",
        " São semelhantes às listas, mas com uma diferença fundamental: elas são\n",
        "imutáveis. Isso significa que, uma vez criadas, as tuplas não podem ser alteradas"
      ],
      "metadata": {
        "id": "JHWh58s7_oRX"
      }
    },
    {
      "cell_type": "code",
      "source": [
        "vogais = ('a', 'e', 'i', 'o', 'u')\n",
        "print(f\"Tipo de obejtos vogais = {type(vogais)}\")\n",
        "for nunes, freitas in enumerate(vogais):\n",
        "  print(f\"Posição = {nunes}, valor = {freitas}\")"
      ],
      "metadata": {
        "colab": {
          "base_uri": "https://localhost:8080/"
        },
        "id": "QZZ6aoiH_6m-",
        "outputId": "70d46752-ab77-4b43-fb7f-59be1463f565"
      },
      "execution_count": 12,
      "outputs": [
        {
          "output_type": "stream",
          "name": "stdout",
          "text": [
            "Tipo de obejtos vogais = <class 'tuple'>\n",
            "Posição = 0, valor = a\n",
            "Posição = 1, valor = e\n",
            "Posição = 2, valor = i\n",
            "Posição = 3, valor = o\n",
            "Posição = 4, valor = u\n"
          ]
        }
      ]
    },
    {
      "cell_type": "code",
      "source": [],
      "metadata": {
        "id": "jwhW9Qk--lle"
      },
      "execution_count": null,
      "outputs": []
    },
    {
      "cell_type": "markdown",
      "source": [
        "✅ Pratica"
      ],
      "metadata": {
        "id": "NMKHL7TbCPaS"
      }
    },
    {
      "cell_type": "code",
      "source": [
        "convidados_aniversário = (\"Paty\", \"Irani\", \"Amanda\", \"Japa\", \"Flavia\", \"Akio\")  # Tupla ( LIsta fechada)\n",
        "\n",
        "confirmados = [\"Irani\", \"Amanda\"] # Confirmados\n",
        "\n",
        "não_confirmados = [convidado for convidado in convidados_aniversário if convidado not in confirmados]   # Identificar quem ainda não confirmou\n",
        "print(\"Convidados que não confirmaram:\") # Exibir os convidados que ainda não confirmaram\n",
        "\n",
        "for nome in não_confirmados:\n",
        "  print(nome)\n",
        "  print(\"\\Enviando lembretes para os convidados que ainda não confirmaram:\") # enviar lembretes"
      ],
      "metadata": {
        "colab": {
          "base_uri": "https://localhost:8080/"
        },
        "id": "X9NhTlogCZGp",
        "outputId": "e7124816-7218-4d66-c149-34a800cf6285"
      },
      "execution_count": 15,
      "outputs": [
        {
          "output_type": "stream",
          "name": "stdout",
          "text": [
            "Convidados que não confirmaram:\n",
            "Paty\n",
            "\\Enviando lembretes para os convidados que ainda não confirmaram:\n",
            "Japa\n",
            "\\Enviando lembretes para os convidados que ainda não confirmaram:\n",
            "Flavia\n",
            "\\Enviando lembretes para os convidados que ainda não confirmaram:\n",
            "Akio\n",
            "\\Enviando lembretes para os convidados que ainda não confirmaram:\n"
          ]
        },
        {
          "output_type": "stream",
          "name": "stderr",
          "text": [
            "<>:10: SyntaxWarning: invalid escape sequence '\\E'\n",
            "<>:10: SyntaxWarning: invalid escape sequence '\\E'\n",
            "/tmp/ipython-input-4031901748.py:10: SyntaxWarning: invalid escape sequence '\\E'\n",
            "  print(\"\\Enviando lembretes para os convidados que ainda não confirmaram:\") # enviar lembretes\n"
          ]
        }
      ]
    }
  ]
}