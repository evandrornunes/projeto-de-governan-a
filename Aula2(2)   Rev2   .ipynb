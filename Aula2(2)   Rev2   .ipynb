{
  "nbformat": 4,
  "nbformat_minor": 0,
  "metadata": {
    "colab": {
      "provenance": [],
      "authorship_tag": "ABX9TyN/M1xbmTlDGpAWRXmURD3+",
      "include_colab_link": true
    },
    "kernelspec": {
      "name": "python3",
      "display_name": "Python 3"
    },
    "language_info": {
      "name": "python"
    }
  },
  "cells": [
    {
      "cell_type": "markdown",
      "metadata": {
        "id": "view-in-github",
        "colab_type": "text"
      },
      "source": [
        "<a href=\"https://colab.research.google.com/github/evandrornunes/projeto-de-governan-a/blob/main/Aula2(2)%20%20%20Rev2%20%20%20.ipynb\" target=\"_parent\"><img src=\"https://colab.research.google.com/assets/colab-badge.svg\" alt=\"Open In Colab\"/></a>"
      ]
    },
    {
      "cell_type": "markdown",
      "source": [
        "✅ Set"
      ],
      "metadata": {
        "id": "D7jmgLUTAjdn"
      }
    },
    {
      "cell_type": "code",
      "execution_count": 36,
      "metadata": {
        "colab": {
          "base_uri": "https://localhost:8080/"
        },
        "id": "wb9JUaHx8WBi",
        "outputId": "8c0e263e-5953-4e89-81c0-f568db34c2c4"
      },
      "outputs": [
        {
          "output_type": "stream",
          "name": "stdout",
          "text": [
            "meu_conjunto após adicionar elementos: {1, 3, 4, 6, 8}\n"
          ]
        }
      ],
      "source": [
        "meu_conjunto = set()   # Criando um conjunto vazio\n",
        "\n",
        "meu_conjunto.add(1)   # Adicionar elementos ao conjunto\n",
        "meu_conjunto.add(6)\n",
        "meu_conjunto.add(3)\n",
        "meu_conjunto.add(8)\n",
        "meu_conjunto.add(4)\n",
        "print(\"meu_conjunto após adicionar elementos:\", meu_conjunto)  # mostrar lista dos itens adicionados"
      ]
    },
    {
      "cell_type": "code",
      "source": [
        "elemento = 8   # iten a ser procurado na lista de itens add ao meu_conjunto\n",
        "if elemento in meu_conjunto:  # se elemento(10) encontrado in(em) meu_conjunto\n",
        "    print(f\"{elemento} = está no meu_conjunto\")   # Retornar está no conjunto\n",
        "else:   # senão encontrar elemento(10)\n",
        "    print(f\"{elemento} = não está no meu_conjunto\")   # Retornar, não está no meu_conjunto"
      ],
      "metadata": {
        "colab": {
          "base_uri": "https://localhost:8080/"
        },
        "id": "jk-MOtvgCsqD",
        "outputId": "7cb6ef9e-6868-451b-9f56-57ee24da9fed"
      },
      "execution_count": 37,
      "outputs": [
        {
          "output_type": "stream",
          "name": "stdout",
          "text": [
            "8 = está no meu_conjunto\n"
          ]
        }
      ]
    },
    {
      "cell_type": "code",
      "source": [
        "meu_conjunto.remove(3)\n",
        "print(\"meu_conjunto após remover o elemento:\", meu_conjunto)"
      ],
      "metadata": {
        "colab": {
          "base_uri": "https://localhost:8080/"
        },
        "id": "7-MSFjB6En8F",
        "outputId": "62fab067-dfca-4716-fddc-07f398591852"
      },
      "execution_count": 38,
      "outputs": [
        {
          "output_type": "stream",
          "name": "stdout",
          "text": [
            "meu_conjunto após remover o elemento: {1, 4, 6, 8}\n"
          ]
        }
      ]
    },
    {
      "cell_type": "markdown",
      "source": [
        "✅ Mapping"
      ],
      "metadata": {
        "id": "aeW9ViV_Kiud"
      }
    },
    {
      "cell_type": "code",
      "source": [
        "dici_1 = {}    # Criação do dicionario 1\n",
        "dici_1['nome'] = \"Maria\"\n",
        "dici_1['idade'] = 25\n",
        "\n",
        "dici_2 = {'nome': 'Maria', 'idade': 25}   # Criação do dicionario 2\n",
        "\n",
        "dici_3 = dict([('nome', \"Maria\"), ('idade', 25)])   # Criação do dicionario 3 ( TUPLA )\n",
        "\n",
        "dici_4 = dict(zip(['nome', 'idade'], [\"Maria\",25]))   # Criação do dicionario 4  ( ZIP )\n"
      ],
      "metadata": {
        "id": "cq0X7uzeNmNn"
      },
      "execution_count": 16,
      "outputs": []
    },
    {
      "cell_type": "code",
      "source": [
        "print(dici_1)\n",
        "print(dici_2)\n",
        "print(dici_3)\n",
        "print(dici_4)\n",
        "print(dici_1 == dici_2 == dici_3 == dici_4)"
      ],
      "metadata": {
        "colab": {
          "base_uri": "https://localhost:8080/"
        },
        "id": "tt6b-XXNOcF5",
        "outputId": "233212fa-f9ce-4ab3-a6f3-e1ca6e40012b"
      },
      "execution_count": 15,
      "outputs": [
        {
          "output_type": "stream",
          "name": "stdout",
          "text": [
            "{'nome': 'Maria', 'idade': 25}\n",
            "{'nome': 'Maria', 'idade': 25}\n",
            "{'nome': 'Maria', 'idade': 25}\n",
            "{'nome': 'Maria', 'idade': 26}\n",
            "False\n"
          ]
        }
      ]
    },
    {
      "cell_type": "markdown",
      "source": [
        "✅Array Numpy"
      ],
      "metadata": {
        "id": "Dx4-mxmFQRtJ"
      }
    },
    {
      "cell_type": "code",
      "source": [
        "import numpy as np\n",
        "# importe a biblioteca numpy\n",
        "my_array = np.array([1, 2, 3, 4, 5])\n",
        "#crie um array Numpy de numeros inteiros\n",
        "print(\"Array original:\")\n",
        "print(my_array)   # imprima o arrray"
      ],
      "metadata": {
        "colab": {
          "base_uri": "https://localhost:8080/"
        },
        "id": "C-UmaeAwQasx",
        "outputId": "5780425e-a067-47cf-ece6-87b875554279"
      },
      "execution_count": 5,
      "outputs": [
        {
          "output_type": "stream",
          "name": "stdout",
          "text": [
            "Array original:\n",
            "[1 2 3 4 5]\n"
          ]
        }
      ]
    },
    {
      "cell_type": "code",
      "source": [
        "# Realize operações matematicas com array\n",
        "squared_array = my_array ** 2    # Eleva cada elemento ao quadrado\n",
        "sum_of_elements = np.sum(my_array)   # Calcula a soma de todos os elementos\n",
        "#Imprima os resultados\n",
        "print(\"\\nArray ao quadrado:\")\n",
        "print(squared_array)\n",
        "print(\"\\nSoma dos elementos:\")\n",
        "print(sum_of_elements)\n",
        "#Acesse elementos do array\n",
        "element_at_index_2 = my_array[2]\n",
        "print(\"\\nElemento na posição 2:\")\n",
        "print(element_at_index_2)"
      ],
      "metadata": {
        "id": "hzOWGt16W4We",
        "outputId": "24bb082a-c67c-4dd1-e60f-f6a984d238c1",
        "colab": {
          "base_uri": "https://localhost:8080/"
        }
      },
      "execution_count": 8,
      "outputs": [
        {
          "output_type": "stream",
          "name": "stdout",
          "text": [
            "\n",
            "Array ao quadrado:\n",
            "[ 1  4  9 16 25]\n",
            "\n",
            "Soma dos elementos:\n",
            "15\n",
            "\n",
            "Elemento na posição 2:\n",
            "3\n"
          ]
        }
      ]
    }
  ]
}