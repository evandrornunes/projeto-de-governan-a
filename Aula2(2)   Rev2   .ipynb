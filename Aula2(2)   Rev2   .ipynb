{
  "nbformat": 4,
  "nbformat_minor": 0,
  "metadata": {
    "colab": {
      "provenance": [],
      "authorship_tag": "ABX9TyPsej0kPMxvIKI48DKoPWdx",
      "include_colab_link": true
    },
    "kernelspec": {
      "name": "python3",
      "display_name": "Python 3"
    },
    "language_info": {
      "name": "python"
    }
  },
  "cells": [
    {
      "cell_type": "markdown",
      "metadata": {
        "id": "view-in-github",
        "colab_type": "text"
      },
      "source": [
        "<a href=\"https://colab.research.google.com/github/evandrornunes/projeto-de-governan-a/blob/main/Aula2(2)%20%20%20Rev2%20%20%20.ipynb\" target=\"_parent\"><img src=\"https://colab.research.google.com/assets/colab-badge.svg\" alt=\"Open In Colab\"/></a>"
      ]
    },
    {
      "cell_type": "markdown",
      "source": [
        "✅ Set"
      ],
      "metadata": {
        "id": "D7jmgLUTAjdn"
      }
    },
    {
      "cell_type": "code",
      "execution_count": 13,
      "metadata": {
        "colab": {
          "base_uri": "https://localhost:8080/"
        },
        "id": "wb9JUaHx8WBi",
        "outputId": "3d9e0694-69a2-48f6-bca4-e6180226ae03"
      },
      "outputs": [
        {
          "output_type": "stream",
          "name": "stdout",
          "text": [
            "meu_conjunto após adicionar elementos: {8, 1, 3, 6}\n"
          ]
        }
      ],
      "source": [
        "meu_conjunto = set()   # Criando um conjunto vazio\n",
        "\n",
        "meu_conjunto.add(1)   # Adicionar elementos ao conjunto\n",
        "meu_conjunto.add(6)\n",
        "meu_conjunto.add(3)\n",
        "meu_conjunto.add(8)\n",
        "print(\"meu_conjunto após adicionar elementos:\", meu_conjunto)  # mostrar lista dos itens adicionados"
      ]
    },
    {
      "cell_type": "code",
      "source": [
        "elemento = 8   # iten a ser procurado na lista de itens add ao meu_conjunto\n",
        "if elemento in meu_conjunto:  # se elemento(10) encontrado in(em) meu_conjunto\n",
        "    print(f\"{elemento} = está no meu_conjunto\")   # Retornar está no conjunto\n",
        "else:   # senão encontrar elemento(10)\n",
        "    print(f\"{elemento} = não está no meu_conjunto\")   # Retornar, não está no meu_conjunto"
      ],
      "metadata": {
        "colab": {
          "base_uri": "https://localhost:8080/"
        },
        "id": "jk-MOtvgCsqD",
        "outputId": "694dec78-a8dd-45fc-e8ac-5b4c620c43fc"
      },
      "execution_count": 19,
      "outputs": [
        {
          "output_type": "stream",
          "name": "stdout",
          "text": [
            "8 = está no meu_conjunto\n"
          ]
        }
      ]
    },
    {
      "cell_type": "code",
      "source": [
        "meu_conjunto.remove(8)\n",
        "print(\"meu_conjunto após remover o elemento 8:\", meu_conjunto)"
      ],
      "metadata": {
        "colab": {
          "base_uri": "https://localhost:8080/"
        },
        "id": "7-MSFjB6En8F",
        "outputId": "841677ef-77bc-45c8-be13-432c9fa96a18"
      },
      "execution_count": 21,
      "outputs": [
        {
          "output_type": "stream",
          "name": "stdout",
          "text": [
            "meu_conjunto após remover o elemento 8: {1, 3, 6}\n"
          ]
        }
      ]
    }
  ]
}