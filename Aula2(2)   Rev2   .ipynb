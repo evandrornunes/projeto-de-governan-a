{
  "nbformat": 4,
  "nbformat_minor": 0,
  "metadata": {
    "colab": {
      "provenance": [],
      "authorship_tag": "ABX9TyNzWB05trSUVsozGVUHfkj+",
      "include_colab_link": true
    },
    "kernelspec": {
      "name": "python3",
      "display_name": "Python 3"
    },
    "language_info": {
      "name": "python"
    }
  },
  "cells": [
    {
      "cell_type": "markdown",
      "metadata": {
        "id": "view-in-github",
        "colab_type": "text"
      },
      "source": [
        "<a href=\"https://colab.research.google.com/github/evandrornunes/projeto-de-governan-a/blob/main/Aula2(2)%20%20%20Rev2%20%20%20.ipynb\" target=\"_parent\"><img src=\"https://colab.research.google.com/assets/colab-badge.svg\" alt=\"Open In Colab\"/></a>"
      ]
    },
    {
      "cell_type": "markdown",
      "source": [
        "✅ Set"
      ],
      "metadata": {
        "id": "D7jmgLUTAjdn"
      }
    },
    {
      "cell_type": "code",
      "execution_count": 26,
      "metadata": {
        "colab": {
          "base_uri": "https://localhost:8080/"
        },
        "id": "wb9JUaHx8WBi",
        "outputId": "eb11aa8c-d376-466e-a3cf-7cd613d555e1"
      },
      "outputs": [
        {
          "output_type": "stream",
          "name": "stdout",
          "text": [
            "meu_conjunto após adicionar elementos: {1, 3, 4, 6, 8}\n"
          ]
        }
      ],
      "source": [
        "meu_conjunto = set()   # Criando um conjunto vazio\n",
        "\n",
        "meu_conjunto.add(1)   # Adicionar elementos ao conjunto\n",
        "meu_conjunto.add(6)\n",
        "meu_conjunto.add(3)\n",
        "meu_conjunto.add(8)\n",
        "meu_conjunto.add(4)\n",
        "print(\"meu_conjunto após adicionar elementos:\", meu_conjunto)  # mostrar lista dos itens adicionados"
      ]
    },
    {
      "cell_type": "code",
      "source": [
        "elemento = 3   # iten a ser procurado na lista de itens add ao meu_conjunto\n",
        "if elemento in meu_conjunto:  # se elemento(10) encontrado in(em) meu_conjunto\n",
        "    print(f\"{elemento} = está no meu_conjunto\")   # Retornar está no conjunto\n",
        "else:   # senão encontrar elemento(10)\n",
        "    print(f\"{elemento} = não está no meu_conjunto\")   # Retornar, não está no meu_conjunto"
      ],
      "metadata": {
        "colab": {
          "base_uri": "https://localhost:8080/"
        },
        "id": "jk-MOtvgCsqD",
        "outputId": "ff6dd6bb-2f2e-4d02-cfef-b7036669c82e"
      },
      "execution_count": 27,
      "outputs": [
        {
          "output_type": "stream",
          "name": "stdout",
          "text": [
            "3 = está no meu_conjunto\n"
          ]
        }
      ]
    },
    {
      "cell_type": "code",
      "source": [
        "meu_conjunto.remove(3)\n",
        "print(\"meu_conjunto após remover o elemento:\", meu_conjunto)"
      ],
      "metadata": {
        "colab": {
          "base_uri": "https://localhost:8080/"
        },
        "id": "7-MSFjB6En8F",
        "outputId": "33c640cf-6413-42c4-cc32-01039fded303"
      },
      "execution_count": 28,
      "outputs": [
        {
          "output_type": "stream",
          "name": "stdout",
          "text": [
            "meu_conjunto após remover o elemento: {1, 4, 6, 8}\n"
          ]
        }
      ]
    },
    {
      "cell_type": "markdown",
      "source": [
        "✅ Mapping"
      ],
      "metadata": {
        "id": "aeW9ViV_Kiud"
      }
    },
    {
      "cell_type": "code",
      "source": [
        "dici_1 = {}    # Criação do dicionario 1\n",
        "dici_1['nome'] = \"Maria\"\n",
        "dici_1['idade'] = 25\n",
        "\n",
        "dici_2 = {'nome': 'Maria', 'idade': 25}   # Criação do dicionario 2\n",
        "\n",
        "dici_3 = dict([('nome', \"Maria\"), ('idade', 25)])   # Criação do dicionario 3 ( TUPLA )\n",
        "\n",
        "dici_4 = dict(zip(['nome', 'idade'], [\"Maria\",25]))   # Criação do dicionario 4  ( ZIP )\n"
      ],
      "metadata": {
        "id": "cq0X7uzeNmNn"
      },
      "execution_count": null,
      "outputs": []
    },
    {
      "cell_type": "code",
      "source": [
        "print(dici_1)\n",
        "print(dici_2)\n",
        "print(dici_3)\n",
        "print(dici_4)\n",
        "print(dici_1 == dici_2 == dici_3 == dici_4)"
      ],
      "metadata": {
        "colab": {
          "base_uri": "https://localhost:8080/"
        },
        "id": "tt6b-XXNOcF5",
        "outputId": "233212fa-f9ce-4ab3-a6f3-e1ca6e40012b"
      },
      "execution_count": null,
      "outputs": [
        {
          "output_type": "stream",
          "name": "stdout",
          "text": [
            "{'nome': 'Maria', 'idade': 25}\n",
            "{'nome': 'Maria', 'idade': 25}\n",
            "{'nome': 'Maria', 'idade': 25}\n",
            "{'nome': 'Maria', 'idade': 26}\n",
            "False\n"
          ]
        }
      ]
    },
    {
      "cell_type": "markdown",
      "source": [
        "✅Array Numpy"
      ],
      "metadata": {
        "id": "Dx4-mxmFQRtJ"
      }
    },
    {
      "cell_type": "code",
      "source": [
        "import numpy as np\n",
        "# importe a biblioteca numpy\n",
        "my_array = np.array([1, 2, 3, 4, 5])\n",
        "#crie um array Numpy de numeros inteiros\n",
        "print(\"Array original:\")\n",
        "print(my_array)   # imprima o arrray"
      ],
      "metadata": {
        "colab": {
          "base_uri": "https://localhost:8080/"
        },
        "id": "C-UmaeAwQasx",
        "outputId": "5780425e-a067-47cf-ece6-87b875554279"
      },
      "execution_count": null,
      "outputs": [
        {
          "output_type": "stream",
          "name": "stdout",
          "text": [
            "Array original:\n",
            "[1 2 3 4 5]\n"
          ]
        }
      ]
    },
    {
      "cell_type": "code",
      "source": [
        "# Realize operações matematicas com array\n",
        "squared_array = my_array ** 2    # Eleva cada elemento ao quadrado\n",
        "sum_of_elements = np.sum(my_array)   # Calcula a soma de todos os elementos\n",
        "#Imprima os resultados\n",
        "print(\"\\nArray ao quadrado:\")\n",
        "print(squared_array)\n",
        "print(\"\\nSoma dos elementos:\")\n",
        "print(sum_of_elements)\n",
        "#Acesse elementos do array\n",
        "element_at_index_2 = my_array[2]\n",
        "print(\"\\nElemento na posição 2:\")\n",
        "print(element_at_index_2)"
      ],
      "metadata": {
        "colab": {
          "base_uri": "https://localhost:8080/"
        },
        "id": "hzOWGt16W4We",
        "outputId": "24bb082a-c67c-4dd1-e60f-f6a984d238c1"
      },
      "execution_count": null,
      "outputs": [
        {
          "output_type": "stream",
          "name": "stdout",
          "text": [
            "\n",
            "Array ao quadrado:\n",
            "[ 1  4  9 16 25]\n",
            "\n",
            "Soma dos elementos:\n",
            "15\n",
            "\n",
            "Elemento na posição 2:\n",
            "3\n"
          ]
        }
      ]
    },
    {
      "cell_type": "markdown",
      "source": [
        "✅ Aplicação de exercicio da aula"
      ],
      "metadata": {
        "id": "VJlZeaCyY2UF"
      }
    },
    {
      "cell_type": "code",
      "source": [
        "# importe as bibliotecas necessarias\n",
        "import numpy as np\n",
        "# Dados dos participantes\n",
        "participantes = [{\n",
        "    \"nome\": \"Alice\",\n",
        "    \"localização\": \"EUA\",\n",
        "    \"afiliação\": \"Universidade A\",\n",
        "    \"interesses\": [\"Biologia\", \"Astronomia\"]\n",
        "},\n",
        "{\n",
        "    \"nome\": \"Bob\",\n",
        "    \"localização\": \"Canadá\",\n",
        "    \"afiliação\": \"Universidade B\",\n",
        "    \"interesses\": [\"Matemática\", \"Física\"]\n",
        "},\n",
        "{\n",
        "    \"nome\": \"Charlie\",\n",
        "    \"localização\": \"Reino Unido\",\n",
        "    \"afiliação\": \"Universidade C\",\n",
        "    \"interesses\": [\"História\", \"Geografia\"]\n",
        "},\n",
        "{\n",
        "    \"nome\": \"David\",\n",
        "    \"localização\": \"França\",\n",
        "    \"afiliação\": \"Universidade D\",\n",
        "    \"interesses\": [\"Física\", \"Música\"]\n",
        "    }]\n",
        "# Adicionar mais participantes conforme necessário\n",
        "\n",
        "# Usando sets para identificar diferentes regioes dos participantes\n",
        "regioes = set(participante[\"localização\"] for participante in participantes)\n",
        "# Usando dicionario para categorizar afiliações.\n",
        "afiliacoes = {}\n",
        "for participante in participantes:\n",
        "    afiliacao = participante[\"afiliação\"] # Corrected key name here\n",
        "    if afiliacao not in afiliacoes:\n",
        "        afiliacoes[afiliacao] = []\n",
        "    afiliacoes[afiliacao].append(participante[\"nome\"])\n",
        "#Usando Numpy para analisar áreas de interesse\n",
        "areas_de_interesse = np.array([interesse for participante in participantes for interesse in participante [\"interesses\"]])\n",
        "interesses_unicos, contagem = np.unique(areas_de_interesse, return_counts=True)\n",
        "area_mais_popular = interesses_unicos[np.argmax(contagem)]\n",
        "# Resultados\n",
        "print(\"Regioes dos participantes:\", regioes)\n",
        "print(\"Afiliacoes dos participantes:\" )\n",
        "for afiliacao, nomes in afiliacoes.items():\n",
        "    print(f\"{afiliacao}: {', '.join(nomes)}\")\n",
        "print(\"A area de interesse mais popular é:\", area_mais_popular)"
      ],
      "metadata": {
        "colab": {
          "base_uri": "https://localhost:8080/"
        },
        "id": "WGe8msNMZDgO",
        "outputId": "bc4a03bf-2a8a-4e69-e771-070598b7de70"
      },
      "execution_count": null,
      "outputs": [
        {
          "output_type": "stream",
          "name": "stdout",
          "text": [
            "Regioes dos participantes: {'EUA', 'França', 'Canadá', 'Reino Unido'}\n",
            "Afiliacoes dos participantes:\n",
            "Universidade A: Alice\n",
            "Universidade B: Bob\n",
            "Universidade C: Charlie\n",
            "Universidade D: David\n",
            "A area de interesse mais popular é: Física\n"
          ]
        }
      ]
    }
  ]
}