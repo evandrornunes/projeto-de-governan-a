{
  "nbformat": 4,
  "nbformat_minor": 0,
  "metadata": {
    "colab": {
      "provenance": [],
      "authorship_tag": "ABX9TyP0u/aeHMtZXKSiGWPrR9/9",
      "include_colab_link": true
    },
    "kernelspec": {
      "name": "python3",
      "display_name": "Python 3"
    },
    "language_info": {
      "name": "python"
    }
  },
  "cells": [
    {
      "cell_type": "markdown",
      "metadata": {
        "id": "view-in-github",
        "colab_type": "text"
      },
      "source": [
        "<a href=\"https://colab.research.google.com/github/evandrornunes/projeto-de-governan-a/blob/main/Unidade2%20Aula3%20.ipynb\" target=\"_parent\"><img src=\"https://colab.research.google.com/assets/colab-badge.svg\" alt=\"Open In Colab\"/></a>"
      ]
    },
    {
      "cell_type": "code",
      "execution_count": null,
      "metadata": {
        "colab": {
          "base_uri": "https://localhost:8080/"
        },
        "id": "BhqqJeHYLPbP",
        "outputId": "8dc69a52-8685-446c-b2b8-973e57be4a81"
      },
      "outputs": [
        {
          "output_type": "stream",
          "name": "stdout",
          "text": [
            "Olá, meu nome é João.\n",
            "idade: 30\n",
            "Nova idade: 31\n"
          ]
        }
      ],
      "source": [
        "# Definir uma classe chamada pessoa.\n",
        "class Pessoa:\n",
        "  # O método __init__ é um construtor, chamado quando um objeto da classe é criado.\n",
        "  # Ele inicializa os atributos da classe\n",
        "  def __init__(self, nome, idade, genero):\n",
        "      # self é uma convenção em python que se refere à própria instancia de classe\n",
        "      # Os parametros nome, idade, e genero são passados durante a criação do objeto.\n",
        "      # Eles são usados para inicializar os atributos da instância.\n",
        "      self.nome = nome # Atribui o valor de nome ao atributo nome da instância.\n",
        "      self.idade = idade # Atribui o valor de idade ao atributo idade da instância.\n",
        "      self.genero = genero # Atribui o valor de genero ao atributo genero da instancia\n",
        "  # O metodo cumprimentar retorna uma saudação com o nome da pessoa.\n",
        "  def cumprimentar(self):\n",
        "      return f\"Olá, meu nome é {self.nome}.\"\n",
        "  # O metodo aniversario aumenta a idade da pessoa em 1.\n",
        "  def aniversario(self):\n",
        "      self.idade += 1\n",
        "# Cria uma instância da classe \"Pessoa\" com os valores \"João\", 30 e \"Masculino\" para nome, idade e genero...\n",
        "pessoa1 = Pessoa(\"João\", 30, \"Masculino\")\n",
        "# Chama o método \"cumprimentar\" na instancia pessa1 e imprime a saudação\n",
        "print(pessoa1.cumprimentar())  # Saída: \"Ola meu nome é joao.\"\n",
        "# Acessa o atributo idade da instancia pessoa1 e omprime sua idade\n",
        "print(f\"idade: {pessoa1.idade}\")   # Saida idade 30\n",
        "# Chama o metodo \"aniversario\" na instancia pessoa1 para aumentar sua idade em 1\n",
        "pessoa1.aniversario()\n",
        "# Acessa o atributo idade atualizado da instancia pessoa1 e imprime a nova idade\n",
        "print(f\"Nova idade: {pessoa1.idade}\") #Saida \" Nova idade:31\""
      ]
    },
    {
      "cell_type": "code",
      "source": [
        "class Animal:\n",
        "    def __init__(self, nome):\n",
        "        self.nome = nome\n",
        "    def fazer_barulho(self):\n",
        "        pass\n",
        "class cachorro(Animal):\n",
        "    def fazer_barulho(self):\n",
        "        return \"Latir\"\n",
        "class Gato(Animal):\n",
        "    def fazer_barulho(self):\n",
        "        return \"Miar\""
      ],
      "metadata": {
        "id": "55ht6UtNnrUU"
      },
      "execution_count": 4,
      "outputs": []
    },
    {
      "cell_type": "code",
      "source": [
        "Babi = cachorro(\"Babi\")\n",
        "Flora = Gato(\"Flora\")"
      ],
      "metadata": {
        "id": "Ytp3o6lapT7s"
      },
      "execution_count": 5,
      "outputs": []
    },
    {
      "cell_type": "code",
      "source": [
        "print(f\"{Babi.nome} faz: {Babi.fazer_barulho()}\")"
      ],
      "metadata": {
        "colab": {
          "base_uri": "https://localhost:8080/"
        },
        "id": "hy6DKwa2pqpe",
        "outputId": "3886f018-7514-4f5e-c14d-63192f37e98b"
      },
      "execution_count": 7,
      "outputs": [
        {
          "output_type": "stream",
          "name": "stdout",
          "text": [
            "Babi faz: Latir\n"
          ]
        }
      ]
    },
    {
      "cell_type": "code",
      "source": [
        "print(f\"{Flora.nome} faz: {Flora.fazer_barulho()}\")"
      ],
      "metadata": {
        "colab": {
          "base_uri": "https://localhost:8080/"
        },
        "id": "9DpZfNpXqtdF",
        "outputId": "0dfc5165-e04e-477e-f9a7-dcdacd5260a6"
      },
      "execution_count": 8,
      "outputs": [
        {
          "output_type": "stream",
          "name": "stdout",
          "text": [
            "Flora faz: Miar\n"
          ]
        }
      ]
    },
    {
      "cell_type": "code",
      "source": [
        "class veiculo\n",
        "   def __init__(self, marca, modelo, ano):\n",
        "      self.marca = marca\n",
        "      self.modelo = modelo\n",
        "      self.ano = ano\n",
        "      self.velocidade = 0\n",
        "\n",
        "   def acelerar(self, incremento):\n",
        "      self.velocidade += incremento\n",
        "\n",
        "   def frear(self, decremento):\n",
        "      self.velocidade -= decremento\n",
        "\n",
        "   def status(self):\n",
        "      return f\"Marca: {self.marca}, Modelo: {self.modelo}, Ano: {self.ano}, Velocidade: {self.velocidade} km/h\"\n",
        "\n",
        "class carro(veiculo):\n",
        "    def __init__(self, marca, modelo, ano, potencia):\n",
        "         super().__init__(marca, modelo, ano)\n",
        "         self.potencia = potencia\n",
        "\n",
        "    def acelerar(self, incremento):\n",
        "        self.velocidade += incremento + self.potencia\n",
        "\n",
        "class Bicicleta(veiculo):\n",
        "    def __init__(self, marca, modelo, ano, tipo):\n",
        "        super().__init__(marca, modelo, ano)\n",
        "        self.tipo = tipo\n",
        "\n",
        "    def status(self):\n",
        "      return f\"Marca: {self.marca}, Modelo: {self.modelo}, Ano: {self.ano}, Tipo {self.tipo}, Velocidade: {self.velocidade} km/h \"\n",
        "\n",
        "\n",
        "\n",
        "\n"
      ],
      "metadata": {
        "id": "sJXzTjDIrLru"
      },
      "execution_count": null,
      "outputs": []
    }
  ]
}