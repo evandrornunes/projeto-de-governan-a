{
  "nbformat": 4,
  "nbformat_minor": 0,
  "metadata": {
    "colab": {
      "provenance": [],
      "authorship_tag": "ABX9TyNzN76qCVdAx6J9cMOXmsqq",
      "include_colab_link": true
    },
    "kernelspec": {
      "name": "python3",
      "display_name": "Python 3"
    },
    "language_info": {
      "name": "python"
    }
  },
  "cells": [
    {
      "cell_type": "markdown",
      "metadata": {
        "id": "view-in-github",
        "colab_type": "text"
      },
      "source": [
        "<a href=\"https://colab.research.google.com/github/evandrornunes/projeto-de-governan-a/blob/main/Untitled0.ipynb\" target=\"_parent\"><img src=\"https://colab.research.google.com/assets/colab-badge.svg\" alt=\"Open In Colab\"/></a>"
      ]
    },
    {
      "cell_type": "code",
      "source": [],
      "metadata": {
        "id": "gNEIE1RQrNxg"
      },
      "execution_count": null,
      "outputs": []
    },
    {
      "cell_type": "code",
      "execution_count": null,
      "metadata": {
        "colab": {
          "base_uri": "https://localhost:8080/"
        },
        "id": "U32A-pVFfJXs",
        "outputId": "dd2c730c-1516-4c1e-db23-ebfc9eb6e492"
      },
      "outputs": [
        {
          "output_type": "stream",
          "name": "stdout",
          "text": [
            "ola mundo\n"
          ]
        }
      ],
      "source": [
        "print(\"ola mundo\")"
      ]
    },
    {
      "cell_type": "code",
      "source": [
        "x = 10\n",
        "nome = 'aluno'\n",
        "nota = 8.75\n",
        "fez_inscrição = True"
      ],
      "metadata": {
        "id": "k__0WeL_f0uw"
      },
      "execution_count": null,
      "outputs": []
    },
    {
      "cell_type": "code",
      "source": [
        "print(type(nome))"
      ],
      "metadata": {
        "colab": {
          "base_uri": "https://localhost:8080/"
        },
        "id": "llDbb16qhJ9S",
        "outputId": "2ce6e4aa-5f91-4a5a-f2d5-0c1fc6000952"
      },
      "execution_count": null,
      "outputs": [
        {
          "output_type": "stream",
          "name": "stdout",
          "text": [
            "<class 'str'>\n"
          ]
        }
      ]
    },
    {
      "cell_type": "code",
      "source": [
        "nome=input(\"digite um nome:\")"
      ],
      "metadata": {
        "colab": {
          "base_uri": "https://localhost:8080/"
        },
        "id": "4Fbsn1-AkuCW",
        "outputId": "0d24f02b-ab2c-4bab-b248-d944263e0e7d"
      },
      "execution_count": null,
      "outputs": [
        {
          "name": "stdout",
          "output_type": "stream",
          "text": [
            "digite um nome:vandao\n"
          ]
        }
      ]
    },
    {
      "cell_type": "code",
      "source": [
        "print(nome)"
      ],
      "metadata": {
        "colab": {
          "base_uri": "https://localhost:8080/"
        },
        "id": "m_2y79M3lkK_",
        "outputId": "84e4113c-de01-4626-8488-99791a9be942"
      },
      "execution_count": null,
      "outputs": [
        {
          "output_type": "stream",
          "name": "stdout",
          "text": [
            "vandao\n"
          ]
        }
      ]
    },
    {
      "cell_type": "code",
      "source": [
        "print(f\"Ola {nome}, bem vindo a disciplina de programação, parabéns pelo seu primeiro hello world\")"
      ],
      "metadata": {
        "colab": {
          "base_uri": "https://localhost:8080/"
        },
        "id": "otiM-UEgud2w",
        "outputId": "009749e3-c86b-40c2-d4df-a635dcf538b4"
      },
      "execution_count": null,
      "outputs": [
        {
          "output_type": "stream",
          "name": "stdout",
          "text": [
            "Ola vandao, bem vindo a disciplina de programação, parabéns pelo seu primeiro hello world\n"
          ]
        }
      ]
    },
    {
      "cell_type": "code",
      "source": [
        "Nota_1 = int(input(\"Digite a primeira nota:\"))\n",
        "Nota_2 = int(input(\"Digite a segunda nota:\"))\n",
        "Nota_3 = int(input(\"Digite a terceira nota:\"))\n",
        "Nota_4 = int(input(\"Digite a quarta nota:\"))\n"
      ],
      "metadata": {
        "id": "uJPeaW-0vnQO",
        "colab": {
          "base_uri": "https://localhost:8080/"
        },
        "outputId": "f596cf4f-38d7-4fca-c3a6-8604e28f19c6"
      },
      "execution_count": 1,
      "outputs": [
        {
          "name": "stdout",
          "output_type": "stream",
          "text": [
            "Digite a primeira nota:5\n",
            "Digite a segunda nota:6\n",
            "Digite a terceira nota:7\n",
            "Digite a quarta nota:9\n"
          ]
        }
      ]
    },
    {
      "cell_type": "code",
      "source": [
        "#condição para o aluno ser aprovado.\n",
        "media = (Nota_1 + Nota_2 + Nota_3 + Nota_4)/4\n",
        "if media >= 6:\n",
        "    situação = \"Aprovado\"\n",
        "else:\n",
        "    situação = \"Reprovado\"\n",
        "\n",
        "print(f\"A média do aluno é {media} e a situação é {situação}\")"
      ],
      "metadata": {
        "id": "Nr7J0yD4wqsP",
        "colab": {
          "base_uri": "https://localhost:8080/"
        },
        "outputId": "2a960440-6462-4418-e084-17d7137996f4"
      },
      "execution_count": 3,
      "outputs": [
        {
          "output_type": "stream",
          "name": "stdout",
          "text": [
            "A média do aluno é 6.75 e a situação é Aprovado\n"
          ]
        }
      ]
    },
    {
      "cell_type": "code",
      "source": [
        "#dadas as notas apresentamos a média final e a situação do aluno.\n",
        "print(f\"A média das notasé: {media}\")\n",
        "print(f\"Situação do aluno: {situação}\")"
      ],
      "metadata": {
        "colab": {
          "base_uri": "https://localhost:8080/"
        },
        "id": "StOHmifV8Y0K",
        "outputId": "ccf2a4b6-3dc3-45b6-a645-6c6f538c958c"
      },
      "execution_count": 4,
      "outputs": [
        {
          "output_type": "stream",
          "name": "stdout",
          "text": [
            "A média das notasé: 6.75\n",
            "Situação do aluno: Aprovado\n"
          ]
        }
      ]
    }
  ]
}