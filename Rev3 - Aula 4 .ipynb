{
  "cells": [
    {
      "cell_type": "markdown",
      "metadata": {
        "id": "view-in-github",
        "colab_type": "text"
      },
      "source": [
        "<a href=\"https://colab.research.google.com/github/evandrornunes/projeto-de-governan-a/blob/main/Rev3%20-%20Aula%204%20.ipynb\" target=\"_parent\"><img src=\"https://colab.research.google.com/assets/colab-badge.svg\" alt=\"Open In Colab\"/></a>"
      ]
    },
    {
      "cell_type": "code",
      "source": [
        "# FUNÇÃO : LEN\n",
        "\n",
        "# Criar uma lista de numeros\n",
        "\n",
        "numeros = [ 1, 2, 3, 4, 5,6,7,8,9,10,'a',True]\n",
        "\n",
        "# Usara função len() para calcular o comprimento da lista\n",
        "\n",
        "comprimento = len(numeros)\n",
        "print(\"comprimento da lista:\",comprimento)\n",
        "\n",
        "#Imprime o comprimento da lista\n",
        "\n",
        "print(\"Temos:\", comprimento,\"elementos na lista\")   # exemplo - eu inventei\n",
        "print(\"Essa lista contem:\", comprimento, \"elementos\") # exemplo - eu inventei\n",
        "print(\"A formula (Len) calcula quantos elementos tem na lista, e nesse caso é:\",comprimento) # exemplo - eu inventei"
      ],
      "metadata": {
        "colab": {
          "base_uri": "https://localhost:8080/"
        },
        "id": "jRgdDnr-QCZr",
        "outputId": "ddfa86e4-71b8-400f-a515-ff2d604245a6"
      },
      "execution_count": 48,
      "outputs": [
        {
          "output_type": "stream",
          "name": "stdout",
          "text": [
            "comprimento da lista: 12\n",
            "Temos: 12 elementos na lista\n",
            "Essa lista contem: 12 elementos\n",
            "A formula (Len) calcula quantos elementos tem na lista, e nesse caso é: 12\n"
          ]
        }
      ]
    },
    {
      "cell_type": "code",
      "source": [
        "# FUNÇÕES CONSTRUIDAS\n",
        "\n",
        "# Definindo uma função chamada \" soma \"\n",
        "\n",
        "def soma(a, b, c):\n",
        "  resultado = a + b + c\n",
        "  return resultado"
      ],
      "metadata": {
        "id": "HBnLAYDRXmpK"
      },
      "execution_count": 126,
      "outputs": []
    },
    {
      "cell_type": "code",
      "source": [
        "resultado_soma = soma(10,200,30)\n",
        "print(\"A soma de 10 + 200 + 30 =\", resultado_soma)"
      ],
      "metadata": {
        "colab": {
          "base_uri": "https://localhost:8080/"
        },
        "id": "kiEDyHfLZDrS",
        "outputId": "bde3a683-3907-47ce-fe26-f720c0096ec2"
      },
      "execution_count": 128,
      "outputs": [
        {
          "output_type": "stream",
          "name": "stdout",
          "text": [
            "A soma de 10 + 200 + 30 = 240\n"
          ]
        }
      ]
    },
    {
      "cell_type": "code",
      "source": [
        "# Definindo uma função chamada \" e_par\"\n",
        "\n",
        "def e_par(numero):\n",
        "  if numero % 2 == 0:\n",
        "    return True\n",
        "  else:\n",
        "    return False\n"
      ],
      "metadata": {
        "id": "DJx1bTx0noyB"
      },
      "execution_count": 132,
      "outputs": []
    },
    {
      "cell_type": "code",
      "source": [
        "numero = 353543453431534735145\n",
        "if e_par(numero):\n",
        "  print(f\"{numero} é um numero par.\")\n",
        "else:\n",
        "    print(f\"{numero} é um numero impar.\")\n",
        "\n"
      ],
      "metadata": {
        "id": "PTfzn-6dn3hv",
        "outputId": "934efd58-9f1e-49fd-c2bd-e1932d997abc",
        "colab": {
          "base_uri": "https://localhost:8080/"
        }
      },
      "execution_count": 135,
      "outputs": [
        {
          "output_type": "stream",
          "name": "stdout",
          "text": [
            "353543453431534735145 é um numero impar.\n"
          ]
        }
      ]
    },
    {
      "cell_type": "code",
      "source": [],
      "metadata": {
        "id": "qIvbQSrpn3QB"
      },
      "execution_count": null,
      "outputs": []
    }
  ],
  "metadata": {
    "colab": {
      "name": "Conheça o Colab",
      "provenance": [],
      "include_colab_link": true
    },
    "kernelspec": {
      "display_name": "Python 3",
      "name": "python3"
    }
  },
  "nbformat": 4,
  "nbformat_minor": 0
}