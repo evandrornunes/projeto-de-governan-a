{
  "nbformat": 4,
  "nbformat_minor": 0,
  "metadata": {
    "colab": {
      "provenance": [],
      "authorship_tag": "ABX9TyMS5ckePXBP5SaQ/hCaFVfL",
      "include_colab_link": true
    },
    "kernelspec": {
      "name": "python3",
      "display_name": "Python 3"
    },
    "language_info": {
      "name": "python"
    }
  },
  "cells": [
    {
      "cell_type": "markdown",
      "metadata": {
        "id": "view-in-github",
        "colab_type": "text"
      },
      "source": [
        "<a href=\"https://colab.research.google.com/github/evandrornunes/projeto-de-governan-a/blob/main/Aula%20pratica%201%20.ipynb\" target=\"_parent\"><img src=\"https://colab.research.google.com/assets/colab-badge.svg\" alt=\"Open In Colab\"/></a>"
      ]
    },
    {
      "cell_type": "markdown",
      "source": [
        "ROTEIRO DE AULA PRÁTICA\n",
        "\n",
        "ATIVIDADE PROPOSTA:\n",
        "Você foi contratado para desenvolver um sistema simples de gestão de notas de alunos. O sistema deve permitir que:\n",
        "* o usuário adicione notas,\n",
        "* calcule a média das notas,\n",
        "* determine a situação do\n",
        "aluno (aprovado ou reprovado), e\n",
        "* exiba um relatório final. Utilize estruturas condicionais, de\n",
        "repetição e funções.\n",
        "\n",
        "Cadastro de Notas:\n",
        "• O sistema deve permitir que o usuário insira as notas dos alunos.\n",
        "• As notas devem ser armazenadas em uma lista.\n",
        "Cálculo da Média:\n",
        "• O sistema deve calcular a média das notas inseridas.\n",
        "Determinação da Situação:\n",
        "• Se a média for maior ou igual a 7, o aluno está aprovado.\n",
        "• Se a média for menor que 7, o aluno está reprovado.\n",
        "Relatório Final:\n",
        "•Exibir as notas inseridas, a média e a situação do aluno."
      ],
      "metadata": {
        "id": "TNOMICVK5SRW"
      }
    },
    {
      "cell_type": "code",
      "execution_count": 118,
      "metadata": {
        "colab": {
          "base_uri": "https://localhost:8080/"
        },
        "id": "u6wZN5fz5O_1",
        "outputId": "51200eb3-d14d-4a67-d427-2be292fec38e"
      },
      "outputs": [
        {
          "name": "stdout",
          "output_type": "stream",
          "text": [
            "Digite a primeira nota: 5\n",
            "Digite a segunda nota: 6\n",
            "Digite a terceira nota: 7\n",
            "Digite a quarta nota: 8\n"
          ]
        }
      ],
      "source": [
        "Nota_1 = int(input(\"Digite a primeira nota: \"))\n",
        "Nota_2 = int(input(\"Digite a segunda nota: \"))\n",
        "Nota_3 = int(input(\"Digite a terceira nota: \"))\n",
        "Nota_4 = int(input(\"Digite a quarta nota: \"))"
      ]
    },
    {
      "cell_type": "code",
      "source": [
        "notas = [Nota_1, Nota_2, Nota_3, Nota_4] # Use the notes from the input\n",
        "\n",
        "def calcular_media(notas):  # Function to calculate the average\n",
        "   total = (sum(notas))\n",
        "   media = sum(notas) / len(notas)\n",
        "   return media\n",
        "   media = calcular_media(notas) # Calculate the media using the function and input notes"
      ],
      "metadata": {
        "id": "1-fFFueESrRN"
      },
      "execution_count": 120,
      "outputs": []
    },
    {
      "cell_type": "code",
      "source": [
        "situação = \"Aprovado\" if media >= 7 else \"Reprovado\"  # Determine the situation"
      ],
      "metadata": {
        "id": "fp3Q9f0FZuRG"
      },
      "execution_count": 121,
      "outputs": []
    },
    {
      "cell_type": "code",
      "source": [
        "print(\"Media das notas dos alunos:\", media)\n",
        "print(\"Situação do aluno:\", situação) # Fixed the syntax error here"
      ],
      "metadata": {
        "colab": {
          "base_uri": "https://localhost:8080/",
          "height": 158
        },
        "id": "xCCuT7XUfbdo",
        "outputId": "459b1c63-9897-41fc-82a2-892d68e555a4"
      },
      "execution_count": 122,
      "outputs": [
        {
          "output_type": "error",
          "ename": "TypeError",
          "evalue": "'int' object is not callable",
          "traceback": [
            "\u001b[0;31m---------------------------------------------------------------------------\u001b[0m",
            "\u001b[0;31mTypeError\u001b[0m                                 Traceback (most recent call last)",
            "\u001b[0;32m/tmp/ipython-input-3390940499.py\u001b[0m in \u001b[0;36m<cell line: 0>\u001b[0;34m()\u001b[0m\n\u001b[0;32m----> 1\u001b[0;31m \u001b[0mprint\u001b[0m\u001b[0;34m(\u001b[0m\u001b[0;34m\"Media das notas dos alunos:\"\u001b[0m\u001b[0;34m,\u001b[0m \u001b[0mmedia\u001b[0m\u001b[0;34m)\u001b[0m\u001b[0;34m\u001b[0m\u001b[0;34m\u001b[0m\u001b[0m\n\u001b[0m\u001b[1;32m      2\u001b[0m \u001b[0mprint\u001b[0m\u001b[0;34m(\u001b[0m\u001b[0;34m\"Situação do aluno:\"\u001b[0m\u001b[0;34m,\u001b[0m \u001b[0msituação\u001b[0m\u001b[0;34m)\u001b[0m \u001b[0;31m# Fixed the syntax error here\u001b[0m\u001b[0;34m\u001b[0m\u001b[0;34m\u001b[0m\u001b[0m\n",
            "\u001b[0;31mTypeError\u001b[0m: 'int' object is not callable"
          ]
        }
      ]
    }
  ]
}