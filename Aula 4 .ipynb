{
  "cells": [
    {
      "cell_type": "markdown",
      "metadata": {
        "id": "view-in-github",
        "colab_type": "text"
      },
      "source": [
        "<a href=\"https://colab.research.google.com/github/evandrornunes/projeto-de-governan-a/blob/main/Aula%204%20.ipynb\" target=\"_parent\"><img src=\"https://colab.research.google.com/assets/colab-badge.svg\" alt=\"Open In Colab\"/></a>"
      ]
    },
    {
      "cell_type": "markdown",
      "source": [
        "⭕ Built-in\n",
        "\n",
        "✅ Função len()\n",
        "\n",
        "# **Calcular o comprimento de uma lista e, em seguida, imprime o resultado com comentários explicativos:**"
      ],
      "metadata": {
        "id": "F1ntxTd0BImf"
      }
    },
    {
      "cell_type": "code",
      "source": [
        "# FUNÇÃO : LEN\n",
        "\n",
        "# Criar uma lista de numeros\n",
        "\n",
        "numeros = [ 1, 2, 3, 4, 5,6,7,8,9,10,'a',True]\n",
        "\n",
        "# Usara função len() para calcular o comprimento da lista\n",
        "\n",
        "comprimento = len(numeros)\n",
        "print(\"comprimento da lista:\",comprimento)\n",
        "\n",
        "#Imprime o comprimento da lista\n",
        "\n",
        "print(\"Temos:\", comprimento,\"elementos na lista\")   # exemplo - eu inventei\n",
        "print(\"Essa lista contem:\", comprimento, \"elementos\") # exemplo - eu inventei\n",
        "print(\"A formula (Len) calcula quantos elementos tem na lista, e nesse caso é:\",comprimento) # exemplo - eu inventei"
      ],
      "metadata": {
        "colab": {
          "base_uri": "https://localhost:8080/"
        },
        "id": "jRgdDnr-QCZr",
        "outputId": "ddfa86e4-71b8-400f-a515-ff2d604245a6"
      },
      "execution_count": null,
      "outputs": [
        {
          "output_type": "stream",
          "name": "stdout",
          "text": [
            "comprimento da lista: 12\n",
            "Temos: 12 elementos na lista\n",
            "Essa lista contem: 12 elementos\n",
            "A formula (Len) calcula quantos elementos tem na lista, e nesse caso é: 12\n"
          ]
        }
      ]
    },
    {
      "cell_type": "markdown",
      "source": [
        "⭕ Função definida pelo usuário(com retorno e parâmetro)\n",
        "\n",
        "✅Função: Soma\n",
        "\n",
        "✅Função: e_par"
      ],
      "metadata": {
        "id": "v10cR5cBDENE"
      }
    },
    {
      "cell_type": "code",
      "source": [
        "# Função - soma\n",
        "\n",
        "def soma(a, b, c):\n",
        "  resultado = a + b + c\n",
        "  return resultado"
      ],
      "metadata": {
        "id": "HBnLAYDRXmpK"
      },
      "execution_count": null,
      "outputs": []
    },
    {
      "cell_type": "code",
      "source": [
        "resultado_soma = soma(10,300,30)\n",
        "print(\"A soma de 10 + 300 + 30 =\", resultado_soma)"
      ],
      "metadata": {
        "colab": {
          "base_uri": "https://localhost:8080/"
        },
        "id": "kiEDyHfLZDrS",
        "outputId": "52474f2f-ac84-4bad-9f39-5c2c5e1e2dfc"
      },
      "execution_count": null,
      "outputs": [
        {
          "output_type": "stream",
          "name": "stdout",
          "text": [
            "A soma de 10 + 300 + 30 = 340\n"
          ]
        }
      ]
    },
    {
      "cell_type": "code",
      "source": [
        "# Função - e_par\n",
        "\n",
        "def e_par(numero):\n",
        "    if numero % 2 == 0:\n",
        "      return True\n",
        "    else:\n",
        "      return False"
      ],
      "metadata": {
        "id": "xAu2zD7TEN-V"
      },
      "execution_count": null,
      "outputs": []
    },
    {
      "cell_type": "code",
      "source": [
        "numero = 155\n",
        "if e_par(numero):\n",
        "  print(numero, \"é par\")\n",
        "else:\n",
        "  print(numero, \"é ímpar\")"
      ],
      "metadata": {
        "colab": {
          "base_uri": "https://localhost:8080/"
        },
        "id": "JhGE8teUGV6k",
        "outputId": "3db41da1-fe0d-468e-fa1b-ecff96857802"
      },
      "execution_count": null,
      "outputs": [
        {
          "output_type": "stream",
          "name": "stdout",
          "text": [
            "155 é ímpar\n"
          ]
        }
      ]
    },
    {
      "cell_type": "markdown",
      "source": [],
      "metadata": {
        "id": "dcJPuisCHleD"
      }
    },
    {
      "cell_type": "markdown",
      "source": [
        "⭕ Funções anônimas em Python\n",
        "\n",
        "**Funções anônimas são declaradas sem a necessidade de um nome, permitindo que sejam definidas e utilizadas no local em que são necessárias.**\n",
        "\n",
        "✅ Função Lambda"
      ],
      "metadata": {
        "id": "b1VcIp6RG2K0"
      }
    },
    {
      "cell_type": "code",
      "source": [
        "# Função - Lambda\n",
        "\n"
      ],
      "metadata": {
        "id": "BeV5ENvdHvnL"
      },
      "execution_count": null,
      "outputs": []
    }
  ],
  "metadata": {
    "colab": {
      "name": "Conheça o Colab",
      "provenance": [],
      "include_colab_link": true
    },
    "kernelspec": {
      "display_name": "Python 3",
      "name": "python3"
    }
  },
  "nbformat": 4,
  "nbformat_minor": 0
}