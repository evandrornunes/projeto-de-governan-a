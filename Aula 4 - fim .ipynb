{
  "cells": [
    {
      "cell_type": "markdown",
      "metadata": {
        "id": "view-in-github",
        "colab_type": "text"
      },
      "source": [
        "<a href=\"https://colab.research.google.com/github/evandrornunes/projeto-de-governan-a/blob/main/Aula%204%20-%20fim%20.ipynb\" target=\"_parent\"><img src=\"https://colab.research.google.com/assets/colab-badge.svg\" alt=\"Open In Colab\"/></a>"
      ]
    },
    {
      "cell_type": "markdown",
      "source": [
        "⭕ Built-in\n",
        "\n",
        "✅ Função len()\n",
        "\n",
        "# **Calcular o comprimento de uma lista e, em seguida, imprime o resultado com comentários explicativos:**"
      ],
      "metadata": {
        "id": "F1ntxTd0BImf"
      }
    },
    {
      "cell_type": "code",
      "source": [
        "# FUNÇÃO : LEN\n",
        "\n",
        "# Criar uma lista de numeros\n",
        "\n",
        "numeros = [ 1, 2, 3, 4, 5,6,7,8,9,10,'a',True]\n",
        "\n",
        "# Usara função len() para calcular o comprimento da lista\n",
        "\n",
        "comprimento = len(numeros)\n",
        "print(\"comprimento da lista:\",comprimento)\n",
        "\n",
        "#Imprime o comprimento da lista\n",
        "\n",
        "print(\"Temos:\", comprimento,\"elementos na lista\")   # exemplo - eu inventei\n",
        "print(\"Essa lista contem:\", comprimento, \"elementos\") # exemplo - eu inventei\n",
        "print(\"A formula (Len) calcula quantos elementos tem na lista, e nesse caso é:\",comprimento) # exemplo - eu inventei"
      ],
      "metadata": {
        "colab": {
          "base_uri": "https://localhost:8080/"
        },
        "id": "jRgdDnr-QCZr",
        "outputId": "ddfa86e4-71b8-400f-a515-ff2d604245a6"
      },
      "execution_count": null,
      "outputs": [
        {
          "output_type": "stream",
          "name": "stdout",
          "text": [
            "comprimento da lista: 12\n",
            "Temos: 12 elementos na lista\n",
            "Essa lista contem: 12 elementos\n",
            "A formula (Len) calcula quantos elementos tem na lista, e nesse caso é: 12\n"
          ]
        }
      ]
    },
    {
      "cell_type": "markdown",
      "source": [
        "⭕ Função definida pelo usuário(com retorno e parâmetro)\n",
        "\n",
        "✅Função: Soma\n",
        "\n",
        "✅Função: e_par"
      ],
      "metadata": {
        "id": "v10cR5cBDENE"
      }
    },
    {
      "cell_type": "code",
      "source": [
        "# Função - soma\n",
        "\n",
        "def soma(a, b, c):\n",
        "  resultado = a + b + c\n",
        "  return resultado"
      ],
      "metadata": {
        "id": "HBnLAYDRXmpK"
      },
      "execution_count": null,
      "outputs": []
    },
    {
      "cell_type": "code",
      "source": [
        "resultado_soma = soma(10,300,30)\n",
        "print(\"A soma de 10 + 300 + 30 =\", resultado_soma)"
      ],
      "metadata": {
        "colab": {
          "base_uri": "https://localhost:8080/"
        },
        "id": "kiEDyHfLZDrS",
        "outputId": "52474f2f-ac84-4bad-9f39-5c2c5e1e2dfc"
      },
      "execution_count": null,
      "outputs": [
        {
          "output_type": "stream",
          "name": "stdout",
          "text": [
            "A soma de 10 + 300 + 30 = 340\n"
          ]
        }
      ]
    },
    {
      "cell_type": "code",
      "source": [
        "# Função - e_par\n",
        "\n",
        "def e_par(numero):\n",
        "    if numero % 2 == 0:\n",
        "      return True\n",
        "    else:\n",
        "      return False"
      ],
      "metadata": {
        "id": "xAu2zD7TEN-V"
      },
      "execution_count": null,
      "outputs": []
    },
    {
      "cell_type": "code",
      "source": [
        "numero = 155\n",
        "if e_par(numero):\n",
        "  print(numero, \"é par\")\n",
        "else:\n",
        "  print(numero, \"é ímpar\")"
      ],
      "metadata": {
        "colab": {
          "base_uri": "https://localhost:8080/"
        },
        "id": "JhGE8teUGV6k",
        "outputId": "3db41da1-fe0d-468e-fa1b-ecff96857802"
      },
      "execution_count": null,
      "outputs": [
        {
          "output_type": "stream",
          "name": "stdout",
          "text": [
            "155 é ímpar\n"
          ]
        }
      ]
    },
    {
      "cell_type": "markdown",
      "source": [],
      "metadata": {
        "id": "dcJPuisCHleD"
      }
    },
    {
      "cell_type": "markdown",
      "source": [
        "⭕ Funções anônimas em Python\n",
        "\n",
        "**Funções anônimas são declaradas sem a necessidade de um nome, permitindo que sejam definidas e utilizadas no local em que são necessárias.**\n",
        "\n",
        "✅ Função Lambda"
      ],
      "metadata": {
        "id": "b1VcIp6RG2K0"
      }
    },
    {
      "cell_type": "code",
      "source": [
        "# Função - Lambda\n",
        "\n",
        "soma = lambda a, b: a + b\n",
        "resultado = soma(3, 4)\n",
        "print(resultado)"
      ],
      "metadata": {
        "id": "BeV5ENvdHvnL",
        "colab": {
          "base_uri": "https://localhost:8080/"
        },
        "outputId": "afb5dd6d-7641-46b1-a444-780c61fd1c75"
      },
      "execution_count": 1,
      "outputs": [
        {
          "output_type": "stream",
          "name": "stdout",
          "text": [
            "7\n"
          ]
        }
      ]
    },
    {
      "cell_type": "markdown",
      "source": [
        "🦾 Aplicando a aula!\n",
        "\n",
        "Sendo professor, necessito avaliar constantemente os\n",
        "estudantes, sendo assim, quero automatizar a média\n",
        "de notas dos alunos.\n",
        "Sabendo como é calcular a média, vamos dar um\n",
        "upgrade\n",
        "no primeiro código utilizando o\n",
        "conhecimento dessa nossa unidade."
      ],
      "metadata": {
        "id": "9yh4hfm3JqoK"
      }
    },
    {
      "cell_type": "code",
      "source": [
        "#Avaliação da aula\n",
        "\n",
        "# Lista de notas dos estudantes\n",
        "\n",
        "notas = [7.5,8.0,6.5,9.0,7.0]\n",
        "\n",
        "#Função regular para calcular a média\n",
        "\n",
        "def calcular_média(notas):\n",
        "    total = sum(notas) # Changed from soma(notas) to sum(notas) as soma is defined for 3 arguments\n",
        "    media = total/len(notas)\n",
        "    return media\n",
        "\n",
        "#Função lambda para arredondar a média para duas casas decimais\n",
        "\n",
        "arredondar_media = lambda media: round(media,2)\n",
        "\n",
        "#Calcular média\n",
        "\n",
        "media = calcular_média(notas)\n",
        "media_arredondada = arredondar_media(media)\n",
        "\n",
        "#Verificar se o estudante foram aprovados\n",
        "\n",
        "situação = \"Aprovado\" if media_arredondada >= 7 else \"Reprovado\"\n",
        "\n",
        "#Imprimir resultados\n",
        "\n",
        "print(\"Notas dos estudantes:\" , notas)\n",
        "print(\"Média das notas:\" , media_arredondada)\n",
        "print(\"Situação do estudante:\" , situação)"
      ],
      "metadata": {
        "colab": {
          "base_uri": "https://localhost:8080/"
        },
        "id": "63hUoyD1KZzR",
        "outputId": "4954ce85-397a-4f40-cec8-60215d4c8e7b"
      },
      "execution_count": 21,
      "outputs": [
        {
          "output_type": "stream",
          "name": "stdout",
          "text": [
            "Notas dos estudantes: [7.5, 8.0, 6.5, 9.0, 7.0]\n",
            "Média das notas: 7.6\n",
            "Situação do estudante: Aprovado\n"
          ]
        }
      ]
    }
  ],
  "metadata": {
    "colab": {
      "name": "Conheça o Colab",
      "provenance": [],
      "history_visible": true,
      "include_colab_link": true
    },
    "kernelspec": {
      "display_name": "Python 3",
      "name": "python3"
    }
  },
  "nbformat": 4,
  "nbformat_minor": 0
}