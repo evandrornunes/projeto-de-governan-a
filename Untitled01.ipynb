{
  "nbformat": 4,
  "nbformat_minor": 0,
  "metadata": {
    "colab": {
      "provenance": [],
      "authorship_tag": "ABX9TyNX038K/uV5QkB4XLOVdq86",
      "include_colab_link": true
    },
    "kernelspec": {
      "name": "python3",
      "display_name": "Python 3"
    },
    "language_info": {
      "name": "python"
    }
  },
  "cells": [
    {
      "cell_type": "markdown",
      "metadata": {
        "id": "view-in-github",
        "colab_type": "text"
      },
      "source": [
        "<a href=\"https://colab.research.google.com/github/evandrornunes/projeto-de-governan-a/blob/main/Untitled01.ipynb\" target=\"_parent\"><img src=\"https://colab.research.google.com/assets/colab-badge.svg\" alt=\"Open In Colab\"/></a>"
      ]
    },
    {
      "cell_type": "code",
      "source": [],
      "metadata": {
        "id": "gNEIE1RQrNxg"
      },
      "execution_count": null,
      "outputs": []
    },
    {
      "cell_type": "code",
      "execution_count": null,
      "metadata": {
        "colab": {
          "base_uri": "https://localhost:8080/"
        },
        "id": "U32A-pVFfJXs",
        "outputId": "dd2c730c-1516-4c1e-db23-ebfc9eb6e492"
      },
      "outputs": [
        {
          "output_type": "stream",
          "name": "stdout",
          "text": [
            "ola mundo\n"
          ]
        }
      ],
      "source": [
        "print(\"ola mundo\")"
      ]
    },
    {
      "cell_type": "code",
      "source": [
        "x = 10\n",
        "nome = 'aluno'\n",
        "nota = 8.75\n",
        "fez_inscrição = True"
      ],
      "metadata": {
        "id": "k__0WeL_f0uw"
      },
      "execution_count": null,
      "outputs": []
    },
    {
      "cell_type": "code",
      "source": [
        "print(type(nome))"
      ],
      "metadata": {
        "colab": {
          "base_uri": "https://localhost:8080/"
        },
        "id": "llDbb16qhJ9S",
        "outputId": "2ce6e4aa-5f91-4a5a-f2d5-0c1fc6000952"
      },
      "execution_count": null,
      "outputs": [
        {
          "output_type": "stream",
          "name": "stdout",
          "text": [
            "<class 'str'>\n"
          ]
        }
      ]
    },
    {
      "cell_type": "code",
      "source": [
        "nome=input(\"digite um nome:\")"
      ],
      "metadata": {
        "colab": {
          "base_uri": "https://localhost:8080/"
        },
        "id": "4Fbsn1-AkuCW",
        "outputId": "0d24f02b-ab2c-4bab-b248-d944263e0e7d"
      },
      "execution_count": null,
      "outputs": [
        {
          "name": "stdout",
          "output_type": "stream",
          "text": [
            "digite um nome:vandao\n"
          ]
        }
      ]
    },
    {
      "cell_type": "code",
      "source": [
        "print(nome)"
      ],
      "metadata": {
        "colab": {
          "base_uri": "https://localhost:8080/"
        },
        "id": "m_2y79M3lkK_",
        "outputId": "84e4113c-de01-4626-8488-99791a9be942"
      },
      "execution_count": null,
      "outputs": [
        {
          "output_type": "stream",
          "name": "stdout",
          "text": [
            "vandao\n"
          ]
        }
      ]
    },
    {
      "cell_type": "code",
      "source": [
        "print(f\"Ola {nome}, bem vindo a disciplina de programação, parabéns pelo seu primeiro hello world\")"
      ],
      "metadata": {
        "colab": {
          "base_uri": "https://localhost:8080/"
        },
        "id": "otiM-UEgud2w",
        "outputId": "009749e3-c86b-40c2-d4df-a635dcf538b4"
      },
      "execution_count": null,
      "outputs": [
        {
          "output_type": "stream",
          "name": "stdout",
          "text": [
            "Ola vandao, bem vindo a disciplina de programação, parabéns pelo seu primeiro hello world\n"
          ]
        }
      ]
    },
    {
      "cell_type": "code",
      "source": [
        "Nota_1 = int(input(\"Digite a primeira nota:\"))\n",
        "Nota_2 = int(input(\"Digite a segunda nota:\"))\n",
        "Nota_3 = int(input(\"Digite a terceira nota:\"))\n",
        "Nota_4 = int(input(\"Digite a quarta nota:\"))\n"
      ],
      "metadata": {
        "id": "uJPeaW-0vnQO",
        "colab": {
          "base_uri": "https://localhost:8080/"
        },
        "outputId": "f596cf4f-38d7-4fca-c3a6-8604e28f19c6"
      },
      "execution_count": null,
      "outputs": [
        {
          "name": "stdout",
          "output_type": "stream",
          "text": [
            "Digite a primeira nota:5\n",
            "Digite a segunda nota:6\n",
            "Digite a terceira nota:7\n",
            "Digite a quarta nota:9\n"
          ]
        }
      ]
    },
    {
      "cell_type": "code",
      "source": [
        "#condição para o aluno ser aprovado.\n",
        "media = (Nota_1 + Nota_2 + Nota_3 + Nota_4)/4\n",
        "if media >= 6:\n",
        "    situação = \"Aprovado\"\n",
        "else:\n",
        "    situação = \"Reprovado\"\n",
        "\n",
        "print(f\"A média do aluno é {media} e a situação é {situação}\")"
      ],
      "metadata": {
        "id": "Nr7J0yD4wqsP",
        "colab": {
          "base_uri": "https://localhost:8080/"
        },
        "outputId": "2a960440-6462-4418-e084-17d7137996f4"
      },
      "execution_count": null,
      "outputs": [
        {
          "output_type": "stream",
          "name": "stdout",
          "text": [
            "A média do aluno é 6.75 e a situação é Aprovado\n"
          ]
        }
      ]
    },
    {
      "cell_type": "code",
      "source": [
        "#dadas as notas apresentamos a média final e a situação do aluno.\n",
        "print(f\"A média das notasé: {media}\")\n",
        "print(f\"Situação do aluno: {situação}\")"
      ],
      "metadata": {
        "colab": {
          "base_uri": "https://localhost:8080/"
        },
        "id": "StOHmifV8Y0K",
        "outputId": "ccf2a4b6-3dc3-45b6-a645-6c6f538c958c"
      },
      "execution_count": null,
      "outputs": [
        {
          "output_type": "stream",
          "name": "stdout",
          "text": [
            "A média das notasé: 6.75\n",
            "Situação do aluno: Aprovado\n"
          ]
        }
      ]
    },
    {
      "cell_type": "code",
      "source": [
        "1>2"
      ],
      "metadata": {
        "colab": {
          "base_uri": "https://localhost:8080/"
        },
        "id": "9BeJq8vG_Oew",
        "outputId": "bbb4cdd2-17cb-41d2-9648-bfd7102c6bd7"
      },
      "execution_count": null,
      "outputs": [
        {
          "output_type": "execute_result",
          "data": {
            "text/plain": [
              "False"
            ]
          },
          "metadata": {},
          "execution_count": 7
        }
      ]
    },
    {
      "cell_type": "code",
      "source": [
        "3>2"
      ],
      "metadata": {
        "colab": {
          "base_uri": "https://localhost:8080/"
        },
        "id": "k0i0Bfze_a3l",
        "outputId": "aede495d-6d72-4bd6-d2f7-a83448570003"
      },
      "execution_count": null,
      "outputs": [
        {
          "output_type": "execute_result",
          "data": {
            "text/plain": [
              "True"
            ]
          },
          "metadata": {},
          "execution_count": 8
        }
      ]
    },
    {
      "cell_type": "code",
      "source": [
        "a = 'aluno'\n",
        "b = 'aluna'\n",
        "a is b"
      ],
      "metadata": {
        "colab": {
          "base_uri": "https://localhost:8080/"
        },
        "id": "e9TmLNe9_hjU",
        "outputId": "b8de58bf-9697-4579-c746-77aaf93b4d72"
      },
      "execution_count": null,
      "outputs": [
        {
          "output_type": "execute_result",
          "data": {
            "text/plain": [
              "False"
            ]
          },
          "metadata": {},
          "execution_count": 10
        }
      ]
    },
    {
      "cell_type": "code",
      "source": [
        " a = 'aluno'\n",
        "b = 'aluna'\n",
        "a is not b"
      ],
      "metadata": {
        "colab": {
          "base_uri": "https://localhost:8080/"
        },
        "id": "JyahZNdaAMRj",
        "outputId": "60d8bb73-71b0-4eef-a2fe-6160c809093b"
      },
      "execution_count": null,
      "outputs": [
        {
          "output_type": "execute_result",
          "data": {
            "text/plain": [
              "True"
            ]
          },
          "metadata": {},
          "execution_count": 13
        }
      ]
    },
    {
      "cell_type": "code",
      "source": [
        "idade = 19\n",
        "\n",
        "if idade < 18:\n",
        "  print(\"Menor de idade\")\n",
        "elif idade >= 18 and idade < 65:\n",
        "    print(\"Adulto\")\n",
        "else:\n",
        "  print(\"Idoso\")\n"
      ],
      "metadata": {
        "colab": {
          "base_uri": "https://localhost:8080/"
        },
        "id": "ydspppo4A1mv",
        "outputId": "fb1088bd-8b38-4f22-a23f-d525cbcfe452"
      },
      "execution_count": 62,
      "outputs": [
        {
          "output_type": "stream",
          "name": "stdout",
          "text": [
            "Adulto\n"
          ]
        }
      ]
    },
    {
      "cell_type": "code",
      "source": [
        "#Bem vindo a máquina de venda automática de ingressos de cinama!\n",
        "\n",
        "#Solicita a idade do cliente\n",
        "idade = int(input(\"Por favor, digite sua idade: \"))\n",
        "\n",
        "#Verififica a idade para sugestão de filmes\n",
        "if idade < 12:\n",
        "  print(\"Recomendamos o filme infantil Desenho animado.\")\n",
        "elif 12 <= idade < 18:\n",
        "  print(\"Recomendamos o filme de aventura.\")\n",
        "else:\n",
        "  print(\"Recomendamos o filme de ação.\")\n",
        "\n",
        "#verificar a disponibilidaded de ingressos\n",
        "\n",
        "quantidade_ingressos = 10   # supoe que haja 10 ingressos disponiveis\n",
        "if quantidade_ingressos > 0:\n",
        "  print(\"Ingressos estão disponiveis\")\n",
        "else:\n",
        "  print(\"Ingressos estão esgotados\")"
      ],
      "metadata": {
        "colab": {
          "base_uri": "https://localhost:8080/"
        },
        "collapsed": true,
        "id": "c4b-le53D_w3",
        "outputId": "40f30db4-a9d8-482c-ff29-f6c00fdfd70b"
      },
      "execution_count": 3,
      "outputs": [
        {
          "output_type": "stream",
          "name": "stdout",
          "text": [
            "Por favor, digite sua idade: 2\n",
            "Recomendamos o filme infantil Desenho animado.\n",
            "Ingressos estão disponiveis\n"
          ]
        }
      ]
    },
    {
      "cell_type": "code",
      "source": [
        "#Aula (for)\n",
        "numeros = [1, 2,3,4,5,6,7,8,9,10,11,12,13]\n",
        "\n"
      ],
      "metadata": {
        "id": "WmSliyzRkKVM"
      },
      "execution_count": 5,
      "outputs": []
    },
    {
      "cell_type": "code",
      "source": [
        "numeros"
      ],
      "metadata": {
        "id": "aczjlUFBD-MO",
        "colab": {
          "base_uri": "https://localhost:8080/"
        },
        "outputId": "0d8feac0-9b9d-4872-8618-ce600c02e830"
      },
      "execution_count": 6,
      "outputs": [
        {
          "output_type": "execute_result",
          "data": {
            "text/plain": [
              "[1, 2, 3, 4, 5, 6, 7, 8, 9, 10, 11, 12, 13]"
            ]
          },
          "metadata": {},
          "execution_count": 6
        }
      ]
    },
    {
      "cell_type": "code",
      "source": [
        "for num in numeros:\n",
        "  print(num)"
      ],
      "metadata": {
        "colab": {
          "base_uri": "https://localhost:8080/"
        },
        "id": "ZjWmDPdMlhkM",
        "outputId": "025019f3-035e-4152-f244-df3010ba8e1f"
      },
      "execution_count": 7,
      "outputs": [
        {
          "output_type": "stream",
          "name": "stdout",
          "text": [
            "1\n",
            "2\n",
            "3\n",
            "4\n",
            "5\n",
            "6\n",
            "7\n",
            "8\n",
            "9\n",
            "10\n",
            "11\n",
            "12\n",
            "13\n"
          ]
        }
      ]
    },
    {
      "cell_type": "code",
      "source": [
        "#Aula (while)\n",
        "\n",
        "numero = int(input(\"Digite um número(ou 0 para sair)\" ))\n",
        "\n",
        "while numero != 0: #(enquanto o numero for diferente de 0 não para operação)\n",
        "  if numero % 2 == 0:  # ( se resto(%) da divisão por 2 for = 0 o numero é par )\n",
        "    print(\"O número é par.\")\n",
        "  else:\n",
        "    print(\"O numero é impar.\")  # ( senão , o reto(%) da divisão por 2 for = 1 o numero é impar )\n",
        "  numero = int(input(\"Digite um número (ou 0 para sair):\" ))"
      ],
      "metadata": {
        "colab": {
          "base_uri": "https://localhost:8080/"
        },
        "id": "nyAZPqFOnSUs",
        "outputId": "e68f7161-d815-4222-c842-e4dc22e0e72b"
      },
      "execution_count": 15,
      "outputs": [
        {
          "name": "stdout",
          "output_type": "stream",
          "text": [
            "Digite um número(ou 0 para sair)3\n",
            "O numero é impar.\n",
            "Digite um número (ou 0 para sair):4\n",
            "O número é par.\n",
            "Digite um número (ou 0 para sair):0\n"
          ]
        }
      ]
    },
    {
      "cell_type": "code",
      "source": [
        "#range ( escolher quantidade de numeros para contagem ( sempre termina um numero antes) )\n",
        "for x in range(7):\n",
        "  print(x)"
      ],
      "metadata": {
        "colab": {
          "base_uri": "https://localhost:8080/"
        },
        "id": "GUQ8cls4v1Ja",
        "outputId": "2d3b8605-3a0a-4562-c3eb-10b6efb3f5ee"
      },
      "execution_count": 23,
      "outputs": [
        {
          "output_type": "stream",
          "name": "stdout",
          "text": [
            "0\n",
            "1\n",
            "2\n",
            "3\n",
            "4\n",
            "5\n",
            "6\n"
          ]
        }
      ]
    },
    {
      "cell_type": "code",
      "source": [
        "#range ( escolher numero inicio - numero fim ( obs: sempre termina um numero antes))\n",
        "for startend in range(10,15):\n",
        "  print(startend)"
      ],
      "metadata": {
        "colab": {
          "base_uri": "https://localhost:8080/"
        },
        "id": "GgdzBHHd00Oi",
        "outputId": "bebf8214-003e-4740-e782-eea0bd00b1dd"
      },
      "execution_count": 20,
      "outputs": [
        {
          "output_type": "stream",
          "name": "stdout",
          "text": [
            "10\n",
            "11\n",
            "12\n",
            "13\n",
            "14\n"
          ]
        }
      ]
    },
    {
      "cell_type": "code",
      "source": [
        "#range (escolher numero inicio - numero fim - quantas casa deve pular( obs: sempre termina um numero antes))\n",
        "for pulando in range(1,50,5):\n",
        "  print(pulando)"
      ],
      "metadata": {
        "colab": {
          "base_uri": "https://localhost:8080/"
        },
        "id": "4FAkKQnP1aZB",
        "outputId": "18304d11-9592-43d5-956c-d43eaa78cd87"
      },
      "execution_count": 21,
      "outputs": [
        {
          "output_type": "stream",
          "name": "stdout",
          "text": [
            "1\n",
            "6\n",
            "11\n",
            "16\n",
            "21\n",
            "26\n",
            "31\n",
            "36\n",
            "41\n",
            "46\n"
          ]
        }
      ]
    },
    {
      "cell_type": "code",
      "source": [
        "for numero in range (1,11):     #Break - para ao encontra primeiro comando escolhido\n",
        "  if numero % 2 == 0:\n",
        "    print(f\"O primeiro numero par encontrado é: {numero}\")\n",
        "    break"
      ],
      "metadata": {
        "colab": {
          "base_uri": "https://localhost:8080/"
        },
        "id": "IrrYQJW15vXL",
        "outputId": "9cec2993-d639-4b05-ff41-2ea9a29e4662"
      },
      "execution_count": 7,
      "outputs": [
        {
          "output_type": "stream",
          "name": "stdout",
          "text": [
            "O primeiro numero par encontrado é: 2\n"
          ]
        }
      ]
    },
    {
      "cell_type": "code",
      "source": [
        "for numero in range (1,10):\n",
        "  if numero == 6:\n",
        "    continue\n",
        "  print(numero)"
      ],
      "metadata": {
        "colab": {
          "base_uri": "https://localhost:8080/"
        },
        "id": "laVfCAf89vB7",
        "outputId": "29ca0bde-b1b4-4f6c-c962-2b28a6d3b4a0"
      },
      "execution_count": 14,
      "outputs": [
        {
          "output_type": "stream",
          "name": "stdout",
          "text": [
            "1\n",
            "2\n",
            "3\n",
            "4\n",
            "5\n",
            "7\n",
            "8\n",
            "9\n"
          ]
        }
      ]
    },
    {
      "cell_type": "code",
      "source": [
        "#Lista de fimes para ser avaliados.\n",
        "Filmes = [ Era do Gelo, Avatar, Star wars, Super man, Vingadores]\n",
        "\n",
        "print(\"Olá bem vindo a classificação de filmes!\")\n",
        "print(\"Você tem cinco filmes para avaliar.\")\n",
        "print(\"Digite '0' a qualquer momento para para.\\n.\")\n",
        "\n",
        "#Iterar com cada filme da lista usar\n",
        "for filme in filmes:\n",
        "#solicitar classificação ao usuario\n",
        "classificação = input(f\"Como você classificaria '{filme}' de 1 a 5 (ou 0 para para): \")\n",
        "#verificar se o usuario deseja para\n",
        "if classificação == '0':\n",
        "  print(\"Que pena que você não ira classificar mais os filmes.\")\n",
        "  break    #encerrar loop principal\n",
        "#converte a classificação para um numero inteiro\n",
        "classificação = int(classificação)\n",
        "#Verifica se a classificação esta dentro de um intervalo valido\n",
        "if classificação < 1 or classificação  > 5:\n",
        "  print(\"Por favor, digite uma classificação válida de 1 a 5.\")\n",
        "  else\n",
        "#Exibe a classificação e passa para o proximo filme\n",
        "print(f\"Você classificou '{filme}' com {classificação} estrelas.\\n\")\n",
        "#Mensagem de aagradecimento ao finalizar\n",
        "print(\"Obrigado por classificar os filmes!\")\n",
        "\n"
      ],
      "metadata": {
        "colab": {
          "base_uri": "https://localhost:8080/",
          "height": 106
        },
        "id": "oVBTrKYp-3nQ",
        "outputId": "88671979-7010-4b83-dda3-08ae88d28eea"
      },
      "execution_count": 16,
      "outputs": [
        {
          "output_type": "error",
          "ename": "SyntaxError",
          "evalue": "invalid syntax. Perhaps you forgot a comma? (ipython-input-124804851.py, line 2)",
          "traceback": [
            "\u001b[0;36m  File \u001b[0;32m\"/tmp/ipython-input-124804851.py\"\u001b[0;36m, line \u001b[0;32m2\u001b[0m\n\u001b[0;31m    Filmes = [ Era do Gelo, Avatar, Star wars, Super man, Vingadores]\u001b[0m\n\u001b[0m               ^\u001b[0m\n\u001b[0;31mSyntaxError\u001b[0m\u001b[0;31m:\u001b[0m invalid syntax. Perhaps you forgot a comma?\n"
          ]
        }
      ]
    }
  ]
}