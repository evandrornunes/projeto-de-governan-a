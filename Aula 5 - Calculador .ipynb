{
  "nbformat": 4,
  "nbformat_minor": 0,
  "metadata": {
    "colab": {
      "provenance": [],
      "authorship_tag": "ABX9TyMYkb+WHKa8pLCVXcNIWDxR",
      "include_colab_link": true
    },
    "kernelspec": {
      "name": "python3",
      "display_name": "Python 3"
    },
    "language_info": {
      "name": "python"
    }
  },
  "cells": [
    {
      "cell_type": "markdown",
      "metadata": {
        "id": "view-in-github",
        "colab_type": "text"
      },
      "source": [
        "<a href=\"https://colab.research.google.com/github/evandrornunes/projeto-de-governan-a/blob/main/Aula%205%20-%20Calculador%20.ipynb\" target=\"_parent\"><img src=\"https://colab.research.google.com/assets/colab-badge.svg\" alt=\"Open In Colab\"/></a>"
      ]
    },
    {
      "cell_type": "code",
      "execution_count": 19,
      "metadata": {
        "colab": {
          "base_uri": "https://localhost:8080/"
        },
        "id": "ElUplVGW8bEm",
        "outputId": "31e4cb77-7340-45cf-daaf-76acaccb6960"
      },
      "outputs": [
        {
          "name": "stdout",
          "output_type": "stream",
          "text": [
            "Digite o valor do produto: R$ 500\n"
          ]
        }
      ],
      "source": [
        "valor_produto = float(input(\"Digite o valor do produto: R$ \"))\n"
      ]
    },
    {
      "cell_type": "code",
      "source": [
        "valor_desconto = float(input(\"Digite o valor do desconto: % \"))"
      ],
      "metadata": {
        "colab": {
          "base_uri": "https://localhost:8080/"
        },
        "id": "1NyjxYBa803j",
        "outputId": "c97d13c9-8dbd-4d99-92f9-cac62949373a"
      },
      "execution_count": 32,
      "outputs": [
        {
          "name": "stdout",
          "output_type": "stream",
          "text": [
            "Digite o valor do desconto: % 00.18\n"
          ]
        }
      ]
    },
    {
      "cell_type": "code",
      "source": [
        "if valor_desconto < 0 or valor_desconto > 100:\n",
        "    print(\"Erro , O valor do desconto deve estar entre 0 e 100\")\n",
        "else:\n",
        "    desconto = valor_produto * (valor_desconto / 100)"
      ],
      "metadata": {
        "id": "kILtgYS79mJx"
      },
      "execution_count": 33,
      "outputs": []
    },
    {
      "cell_type": "code",
      "source": [
        "valor_final = valor_produto - desconto"
      ],
      "metadata": {
        "id": "XTjX1WDKbi9R"
      },
      "execution_count": 34,
      "outputs": []
    },
    {
      "cell_type": "code",
      "source": [
        "print(f\"O valor do desconto é de: R$ {desconto:.2f}\")\n",
        "print(\"O valor final do produto é de: R$\" , valor_final)"
      ],
      "metadata": {
        "colab": {
          "base_uri": "https://localhost:8080/"
        },
        "id": "s90xB5Wdbt__",
        "outputId": "68c9563a-8298-4bd2-d8ce-32dd636a873d"
      },
      "execution_count": 35,
      "outputs": [
        {
          "output_type": "stream",
          "name": "stdout",
          "text": [
            "O valor do desconto é de: R$ 0.90\n",
            "O valor final do produto é de: R$ 499.1\n"
          ]
        }
      ]
    }
  ]
}