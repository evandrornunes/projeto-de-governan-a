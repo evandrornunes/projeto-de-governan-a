{
  "nbformat": 4,
  "nbformat_minor": 0,
  "metadata": {
    "colab": {
      "provenance": [],
      "authorship_tag": "ABX9TyO+Rp1vICaG6yHAe5ZWntLk",
      "include_colab_link": true
    },
    "kernelspec": {
      "name": "python3",
      "display_name": "Python 3"
    },
    "language_info": {
      "name": "python"
    }
  },
  "cells": [
    {
      "cell_type": "markdown",
      "metadata": {
        "id": "view-in-github",
        "colab_type": "text"
      },
      "source": [
        "<a href=\"https://colab.research.google.com/github/evandrornunes/projeto-de-governan-a/blob/main/Unidade2_Aula3%20(Classes%20e%20M%C3%A9todos%20em%20python).ipynb\" target=\"_parent\"><img src=\"https://colab.research.google.com/assets/colab-badge.svg\" alt=\"Open In Colab\"/></a>"
      ]
    },
    {
      "cell_type": "code",
      "execution_count": 1,
      "metadata": {
        "colab": {
          "base_uri": "https://localhost:8080/",
          "height": 106
        },
        "id": "BhqqJeHYLPbP",
        "outputId": "36ad2e34-7b29-460d-c0cb-c3d6023477eb"
      },
      "outputs": [
        {
          "output_type": "error",
          "ename": "IndentationError",
          "evalue": "expected an indented block after class definition on line 2 (ipython-input-2497707816.py, line 5)",
          "traceback": [
            "\u001b[0;36m  File \u001b[0;32m\"/tmp/ipython-input-2497707816.py\"\u001b[0;36m, line \u001b[0;32m5\u001b[0m\n\u001b[0;31m    def _init_(self, nome, idade, genero):\u001b[0m\n\u001b[0m    ^\u001b[0m\n\u001b[0;31mIndentationError\u001b[0m\u001b[0;31m:\u001b[0m expected an indented block after class definition on line 2\n"
          ]
        }
      ],
      "source": [
        "# Definir uma classe chamada pessoa.\n",
        "class Pessoa:\n",
        "  # O método _init_ é um construtor, chamado quando um objeto da classe é criado.\n",
        "  # Ele inicializa os atributos da classe\n",
        "  def _init_(self, nome, idade, genero):\n",
        "      # self é uma convenção em python que se refere à própria instancia de classe\n",
        "      # Os parametros nome, idade, e genero são passados durante a criação do objeto.\n",
        "      # Eles são usados para inicializar os atributos da instância.\n",
        "      self.nome = nome # Atribui o valor de nome ao atributo nome da instância.\n",
        "      self.idade = idade # Atribui o valor de idade ao atributo idade da instância.\n",
        "      self.genero = genero # Atribui o valor de genero ao atributo genero da instancia\n",
        "  # O metodo cumprimentar retorna uma saudação com o nome da pessoa.\n",
        "  def cumprimentar(self)\n",
        "      return f\"Olá, meu nome é {self.nome}.\"\n",
        "  # O metodo aniversario aumenta a idade da pessoa em 1.\n",
        "  def aniversario(self):\n",
        "      self.idade += 1\n",
        "# Cria uma instância da classe \"Pessoa\" com os valores \"João\", 30 e \"Masculino\" para nome, idade e genero...\n",
        "pessoa1 = pessoa(\"João\", 30, \"Masculino\")\n",
        "#"
      ]
    }
  ]
}