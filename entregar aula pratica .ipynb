{
  "nbformat": 4,
  "nbformat_minor": 0,
  "metadata": {
    "colab": {
      "provenance": [],
      "authorship_tag": "ABX9TyMsd4aol0X+pHIf4enYFZY+",
      "include_colab_link": true
    },
    "kernelspec": {
      "name": "python3",
      "display_name": "Python 3"
    },
    "language_info": {
      "name": "python"
    }
  },
  "cells": [
    {
      "cell_type": "markdown",
      "metadata": {
        "id": "view-in-github",
        "colab_type": "text"
      },
      "source": [
        "<a href=\"https://colab.research.google.com/github/evandrornunes/projeto-de-governan-a/blob/main/entregar%20aula%20pratica%20.ipynb\" target=\"_parent\"><img src=\"https://colab.research.google.com/assets/colab-badge.svg\" alt=\"Open In Colab\"/></a>"
      ]
    },
    {
      "cell_type": "markdown",
      "source": [
        "ROTEIRO DE AULA PRÁTICA\n",
        "\n",
        "ATIVIDADE PROPOSTA:\n",
        "Você foi contratado para desenvolver um sistema simples de gestão de notas de alunos. O sistema deve permitir que:\n",
        "* o usuário adicione notas,\n",
        "* calcule a média das notas,\n",
        "* determine a situação do\n",
        "aluno (aprovado ou reprovado), e\n",
        "* exiba um relatório final. Utilize estruturas condicionais, de\n",
        "repetição e funções.\n",
        "\n",
        "Cadastro de Notas:\n",
        "• O sistema deve permitir que o usuário insira as notas dos alunos.\n",
        "• As notas devem ser armazenadas em uma lista.\n",
        "Cálculo da Média:\n",
        "• O sistema deve calcular a média das notas inseridas.\n",
        "Determinação da Situação:\n",
        "• Se a média for maior ou igual a 7, o aluno está aprovado.\n",
        "• Se a média for menor que 7, o aluno está reprovado.\n",
        "Relatório Final:\n",
        "•Exibir as notas inseridas, a média e a situação do aluno."
      ],
      "metadata": {
        "id": "TNOMICVK5SRW"
      }
    },
    {
      "cell_type": "code",
      "execution_count": 37,
      "metadata": {
        "colab": {
          "base_uri": "https://localhost:8080/"
        },
        "id": "u6wZN5fz5O_1",
        "outputId": "1f5684b6-17a0-4588-e6b7-4a8d7179cb9a"
      },
      "outputs": [
        {
          "name": "stdout",
          "output_type": "stream",
          "text": [
            "Digite a primeira nota: 8\n",
            "Digite a segunda nota: 8\n",
            "Digite a terceira nota: 7\n",
            "Digite a quarta nota: 9\n"
          ]
        }
      ],
      "source": [
        "Nota_1 = int(input(\"Digite a primeira nota: \")) # Adiciona nota\n",
        "Nota_2 = int(input(\"Digite a segunda nota: \"))\n",
        "Nota_3 = int(input(\"Digite a terceira nota: \"))\n",
        "Nota_4 = int(input(\"Digite a quarta nota: \"))"
      ]
    },
    {
      "cell_type": "code",
      "source": [
        "notas = [Nota_1, Nota_2, Nota_3, Nota_4] # Lista das notas (input)\n",
        "\n",
        "def calcular_media(notas):  # Função para calcular media\n",
        "   total = sum(notas)\n",
        "   media = total / len(notas) # sum(Soma as notas) len (ivide pelo numero de intens dentro da lista = 4)\n",
        "   return media # Retorna media calculada"
      ],
      "metadata": {
        "id": "1-fFFueESrRN"
      },
      "execution_count": 38,
      "outputs": []
    },
    {
      "cell_type": "code",
      "source": [
        "media = calcular_media(notas) # Define a media\n",
        "situação = \"Aprovado\" if media >= 7 else \"Reprovado\"  # Define a situação do aluno com base na media"
      ],
      "metadata": {
        "id": "fp3Q9f0FZuRG"
      },
      "execution_count": 39,
      "outputs": []
    },
    {
      "cell_type": "code",
      "source": [
        "print(f\"Notas inseridas: {notas}\")   # Uso do F-string = relatorio final\n",
        "print(f\"Média: {media}\")\n",
        "print(f\"Situação: {situação}\")"
      ],
      "metadata": {
        "colab": {
          "base_uri": "https://localhost:8080/"
        },
        "id": "xCCuT7XUfbdo",
        "outputId": "f712dba5-78ef-4306-c378-9b0e8bbe3d74"
      },
      "execution_count": 41,
      "outputs": [
        {
          "output_type": "stream",
          "name": "stdout",
          "text": [
            "Notas inseridas: [8, 8, 7, 9]\n",
            "Média: 8.0\n",
            "Situação: Aprovado\n"
          ]
        }
      ]
    }
  ]
}