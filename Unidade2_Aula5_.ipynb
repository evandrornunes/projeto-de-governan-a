{
  "nbformat": 4,
  "nbformat_minor": 0,
  "metadata": {
    "colab": {
      "provenance": [],
      "authorship_tag": "ABX9TyNWvNyBYPUCUN2zzrG0kAtE",
      "include_colab_link": true
    },
    "kernelspec": {
      "name": "python3",
      "display_name": "Python 3"
    },
    "language_info": {
      "name": "python"
    }
  },
  "cells": [
    {
      "cell_type": "markdown",
      "metadata": {
        "id": "view-in-github",
        "colab_type": "text"
      },
      "source": [
        "<a href=\"https://colab.research.google.com/github/evandrornunes/projeto-de-governan-a/blob/main/Unidade2_Aula5_.ipynb\" target=\"_parent\"><img src=\"https://colab.research.google.com/assets/colab-badge.svg\" alt=\"Open In Colab\"/></a>"
      ]
    },
    {
      "cell_type": "markdown",
      "source": [
        "Exercicio para entregar"
      ],
      "metadata": {
        "id": "eK57KxD2YW73"
      }
    },
    {
      "cell_type": "code",
      "execution_count": 3,
      "metadata": {
        "id": "IwsKcaT2-_Lc"
      },
      "outputs": [],
      "source": [
        "import matplotlib.pyplot as plt  # Importar modulo pyplot\n",
        "# Classe livro\n",
        "class Livro:\n",
        "# def Palavra-chave para definir a função.\n",
        "# __init__  utilizado em classes para inicializar os atributos de um objeto\n",
        "# self,  Os atributos são definidos\n",
        "    def __init__(self, titulo, autor, genero, quantidade_disponivel,):\n",
        "\n",
        "        self.titulo = titulo\n",
        "        self.autor = autor\n",
        "        self.genero = genero\n",
        "        self.quantidade_disponivel = quantidade_disponivel\n",
        "        def __str__(self):\n",
        "# return é usado dentro de uma função para devolver um valor ou resultado ao ponto onde a função foi chamada\n",
        "          return f\"{self.titulo} por {self.autor}, classificação {genero}, temos {self.quantidade_disponivel} unidades disponiveis\""
      ]
    },
    {
      "cell_type": "code",
      "source": [
        "# Criar uma lista de livros\n",
        "biblioteca = []\n",
        "\n",
        "# Função para cadastrar um livro à biblioteca\n",
        "def adicionar_livro(titulo, autor, genero, quantidade_disponivel):\n",
        "    novo_livro = Livro(titulo, autor, genero, quantidade_disponivel)\n",
        "# append é uma maneira simples e eficiente de expandir uma lista existente, neste caso a lista biblioteca\n",
        "    biblioteca.append(novo_livro)\n",
        "    print(f\"O livro, {titulo}' foi adicionado à biblioteca.\")\n",
        "\n",
        "# Função para listar todos os livros na biblioteca\n",
        "def listar_livros():\n",
        "    print(\"Livros na biblioteca:\")\n",
        "    for livro in biblioteca:\n",
        "        print(livro)\n",
        "\n",
        "# Adicionar alguns livros à biblioteca   # titulo,autor,genero,quantidade_disponivel\n",
        "adicionar_livro(\"Senhor dos anéis\", \"J.R.R Tolkien\", \"Ação\",\"1\")\n",
        "adicionar_livro(\"Herry Potter\", \"J.K Rowling\",\"Ficção\", \"1\")\n",
        "adicionar_livro(\"O poderoso chefão\", \"Mario Puzo\", \"Drama\", \"1\")\n",
        "adicionar_livro(\"O Código Da Vinci\", \"Dan Brown\", \"Ação\", \"1\")"
      ],
      "metadata": {
        "colab": {
          "base_uri": "https://localhost:8080/"
        },
        "id": "-NuHaCDXBnRH",
        "outputId": "bd08d1f2-04ee-433e-9fe8-8bbc57706911"
      },
      "execution_count": 4,
      "outputs": [
        {
          "output_type": "stream",
          "name": "stdout",
          "text": [
            "O livro, Senhor dos anéis' foi adicionado à biblioteca.\n",
            "O livro, Herry Potter' foi adicionado à biblioteca.\n",
            "O livro, O poderoso chefão' foi adicionado à biblioteca.\n",
            "O livro, O Código Da Vinci' foi adicionado à biblioteca.\n"
          ]
        }
      ]
    },
    {
      "cell_type": "code",
      "source": [
        "# Buscar livro por titulo\n",
        "def buscar_livro_por_titulo(titulo):\n",
        "    for livro in biblioteca:\n",
        "# converte os titulos em letras minuscula para não errar ao fazer comparação\n",
        "# Se for o mesmo titulo ( == )\n",
        "# return o nome do titulo ( nome do livro)\n",
        "        if livro.titulo.lower() == titulo.lower():\n",
        "            return titulo\n",
        "\n",
        "    print(f\"Livro '{titulo}' não encontrado na biblioteca.\")\n",
        "    return None\n",
        "\n",
        "# Exemplo\n",
        "livro_encontrado = buscar_livro_por_titulo(\"Herry Potter\")\n",
        "if livro_encontrado:\n",
        "    print(f\"Livro encontrado: {livro_encontrado}\")\n",
        "\n",
        "livro_nao_encontrado = buscar_livro_por_titulo(\"Dracula\")\n",
        "if livro_nao_encontrado:\n",
        "    print(f\"Livro encontrado: {livro_encontrado}\")"
      ],
      "metadata": {
        "colab": {
          "base_uri": "https://localhost:8080/"
        },
        "id": "9P7JW38tdrza",
        "outputId": "a465fe9f-094f-484d-f08e-495e3dc33e9b"
      },
      "execution_count": 5,
      "outputs": [
        {
          "output_type": "stream",
          "name": "stdout",
          "text": [
            "Livro encontrado: Herry Potter\n",
            "Livro 'Dracula' não encontrado na biblioteca.\n"
          ]
        }
      ]
    },
    {
      "cell_type": "code",
      "metadata": {
        "colab": {
          "base_uri": "https://localhost:8080/",
          "height": 472
        },
        "id": "551332d7",
        "outputId": "cd692306-8643-4a51-9ccf-c79274127015"
      },
      "source": [
        "# Contar a quantidade de livros por gênero\n",
        "contagem_por_genero = {}\n",
        "for livro in biblioteca:\n",
        "    if livro.genero in contagem_por_genero:\n",
        "        contagem_por_genero[livro.genero] += 1\n",
        "    else:\n",
        "        contagem_por_genero[livro.genero] = 1\n",
        "\n",
        "# Preparar dados para o gráfico\n",
        "generos = list(contagem_por_genero.keys())\n",
        "quantidades = list(contagem_por_genero.values())\n",
        "\n",
        "# Criar o gráfico de barras\n",
        "plt.bar(generos, quantidades, color='red')\n",
        "plt.xlabel('Gênero')\n",
        "plt.ylabel('Número de Livros')\n",
        "plt.title('Número de Livros por Gênero')\n",
        "plt.show()"
      ],
      "execution_count": 113,
      "outputs": [
        {
          "output_type": "display_data",
          "data": {
            "text/plain": [
              "<Figure size 640x480 with 1 Axes>"
            ],
            "image/png": "[encoded data removed]"
          },
          "metadata": {}
        }
      ]
    }
  ]
}