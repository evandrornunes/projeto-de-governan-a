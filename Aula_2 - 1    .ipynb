{
  "nbformat": 4,
  "nbformat_minor": 0,
  "metadata": {
    "colab": {
      "provenance": [],
      "authorship_tag": "ABX9TyPsCbq4etpK+ckH1xtTr1Go",
      "include_colab_link": true
    },
    "kernelspec": {
      "name": "python3",
      "display_name": "Python 3"
    },
    "language_info": {
      "name": "python"
    }
  },
  "cells": [
    {
      "cell_type": "markdown",
      "metadata": {
        "id": "view-in-github",
        "colab_type": "text"
      },
      "source": [
        "<a href=\"https://colab.research.google.com/github/evandrornunes/projeto-de-governan-a/blob/main/Aula_2%20-%201%20%20%20%20.ipynb\" target=\"_parent\"><img src=\"https://colab.research.google.com/assets/colab-badge.svg\" alt=\"Open In Colab\"/></a>"
      ]
    },
    {
      "cell_type": "markdown",
      "source": [
        "✅ Objetos do tipo sequência\n",
        "\n",
        "Sequências são estruturas de dados que nos permitem armazenar coleções\n",
        "ordenadas de informações\n"
      ],
      "metadata": {
        "id": "DgVLe3TWwSpv"
      }
    },
    {
      "cell_type": "code",
      "execution_count": 14,
      "metadata": {
        "colab": {
          "base_uri": "https://localhost:8080/"
        },
        "id": "iIbD9GIcpS_L",
        "outputId": "b4822fcf-3809-4456-db9f-c3f5753c7e40"
      },
      "outputs": [
        {
          "output_type": "stream",
          "name": "stdout",
          "text": [
            "Tamanho do texto = 104\n",
            "Existe a palavra python no texto ? ( True or False ) = True\n",
            "Quantas vezes aparece a letra (o) no texto ? = 13\n",
            "Quais são as 7 primeira letras do texto ? = Ola meu nome é Evandro\n"
          ]
        }
      ],
      "source": [
        "texto = \"Ola meu nome é Evandro, estou aorendendo tecnologia da informação, enfim iniciamos programação em python\"\n",
        "\n",
        "print(f\"Tamanho do texto = {len(texto)}\")\n",
        "print(f\"Existe a palavra python no texto ? ( True or False ) = {'python' in texto}\")\n",
        "print(f\"Quantas vezes aparece a letra (o) no texto ? = {texto.count('o')}\")\n",
        "print(f\"Quais são as 7 primeira letras do texto ? = {texto[:22]}\")"
      ]
    },
    {
      "cell_type": "markdown",
      "source": [
        "✅ Listas\n",
        "\n",
        "São uma forma fundamental de objetos do tipo sequência, são mutáveis, o que\n",
        "significa que podemos adicionar, remover e alterar elementos"
      ],
      "metadata": {
        "id": "ZbbLnlVGwEcU"
      }
    },
    {
      "cell_type": "code",
      "source": [
        "cores = [ 'verde', 'amarelo', 'azul', 'branco', 'preto']\n",
        "for tabela in cores:\n",
        "  print(f'Sequencia das cores = {cores.index(tabela)}, tabela = {tabela}')\n"
      ],
      "metadata": {
        "colab": {
          "base_uri": "https://localhost:8080/"
        },
        "id": "9g4KOtTywLB9",
        "outputId": "70c5428c-7e85-4cd3-8b26-f5b1e4051865"
      },
      "execution_count": 24,
      "outputs": [
        {
          "output_type": "stream",
          "name": "stdout",
          "text": [
            "Sequencia das cores = 0, tabela = verde\n",
            "Sequencia das cores = 1, tabela = amarelo\n",
            "Sequencia das cores = 2, tabela = azul\n",
            "Sequencia das cores = 3, tabela = branco\n",
            "Sequencia das cores = 4, tabela = preto\n"
          ]
        }
      ]
    }
  ]
}